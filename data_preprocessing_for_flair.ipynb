{
  "nbformat": 4,
  "nbformat_minor": 0,
  "metadata": {
    "colab": {
      "name": "data preprocessing for flair.ipynb",
      "version": "0.3.2",
      "provenance": [],
      "include_colab_link": true
    },
    "kernelspec": {
      "name": "python3",
      "display_name": "Python 3"
    },
    "accelerator": "GPU"
  },
  "cells": [
    {
      "cell_type": "markdown",
      "metadata": {
        "id": "view-in-github",
        "colab_type": "text"
      },
      "source": [
        "<a href=\"https://colab.research.google.com/github/gopalkalpande/20-Newsgroups/blob/master/data_preprocessing_for_flair.ipynb\" target=\"_parent\"><img src=\"https://colab.research.google.com/assets/colab-badge.svg\" alt=\"Open In Colab\"/></a>"
      ]
    },
    {
      "metadata": {
        "id": "ggPghIRK7Tbp",
        "colab_type": "code",
        "colab": {
          "base_uri": "https://localhost:8080/",
          "height": 35
        },
        "outputId": "ba3cffcf-ee54-439a-b99d-077406a999f4"
      },
      "cell_type": "code",
      "source": [
        "%matplotlib inline\n",
        "import warnings\n",
        "warnings.filterwarnings(\"ignore\")\n",
        "\n",
        "\n",
        "import sqlite3\n",
        "import pandas as pd\n",
        "import numpy as np\n",
        "import nltk\n",
        "import string\n",
        "import matplotlib.pyplot as plt\n",
        "import seaborn as sns\n",
        "from sklearn.feature_extraction.text import TfidfTransformer\n",
        "from sklearn.feature_extraction.text import TfidfVectorizer\n",
        "\n",
        "from sklearn.feature_extraction.text import CountVectorizer\n",
        "from sklearn.metrics import confusion_matrix\n",
        "from sklearn import metrics\n",
        "from sklearn.metrics import roc_curve, auc\n",
        "from nltk.stem.porter import PorterStemmer\n",
        "\n",
        "import fileinput\n",
        "import string\n",
        "import tensorflow as tf\n",
        "import zipfile\n",
        "import datetime\n",
        "\n",
        "import re\n",
        "# Tutorial about Python regular expressions: https://pymotw.com/2/re/\n",
        "import string\n",
        "from nltk.corpus import stopwords\n",
        "from nltk.stem import PorterStemmer\n",
        "from nltk.stem.wordnet import WordNetLemmatizer\n",
        "from nltk.tokenize import wordpunct_tokenize\n",
        "from nltk.stem.snowball import SnowballStemmer\n",
        "\n",
        "from gensim.models import Word2Vec\n",
        "from gensim.models import KeyedVectors\n",
        "import pickle\n",
        "\n",
        "from tqdm import tqdm\n",
        "import os\n",
        "\n",
        "from sklearn.model_selection import train_test_split\n",
        "from sklearn import model_selection\n",
        "\n",
        "from sklearn.naive_bayes import MultinomialNB\n",
        "from sklearn.metrics import f1_score\n",
        "from sklearn.externals import joblib\n",
        "from keras.preprocessing.text import Tokenizer\n",
        "from keras.preprocessing.sequence import pad_sequences\n",
        "from keras.models import Sequential\n",
        "from keras.layers import Dense, Flatten, LSTM, Conv1D, MaxPooling1D, Dropout, Activation\n",
        "from keras.layers.embeddings import Embedding\n",
        "from sklearn.metrics import classification_report\n"
      ],
      "execution_count": 35,
      "outputs": [
        {
          "output_type": "stream",
          "text": [
            "Using TensorFlow backend.\n"
          ],
          "name": "stderr"
        }
      ]
    },
    {
      "metadata": {
        "id": "ShXluvy0AYZL",
        "colab_type": "code",
        "colab": {
          "base_uri": "https://localhost:8080/",
          "height": 128
        },
        "outputId": "77e52819-896f-45c0-cbf9-aa8688a4c60a"
      },
      "cell_type": "code",
      "source": [
        "from google.colab import drive\n",
        "drive.mount('/content/drive')"
      ],
      "execution_count": 2,
      "outputs": [
        {
          "output_type": "stream",
          "text": [
            "Go to this URL in a browser: https://accounts.google.com/o/oauth2/auth?client_id=947318989803-6bn6qk8qdgf4n4g3pfee6491hc0brc4i.apps.googleusercontent.com&redirect_uri=urn%3Aietf%3Awg%3Aoauth%3A2.0%3Aoob&scope=email%20https%3A%2F%2Fwww.googleapis.com%2Fauth%2Fdocs.test%20https%3A%2F%2Fwww.googleapis.com%2Fauth%2Fdrive%20https%3A%2F%2Fwww.googleapis.com%2Fauth%2Fdrive.photos.readonly%20https%3A%2F%2Fwww.googleapis.com%2Fauth%2Fpeopleapi.readonly&response_type=code\n",
            "\n",
            "Enter your authorization code:\n",
            "··········\n",
            "Mounted at /content/drive\n"
          ],
          "name": "stdout"
        }
      ]
    },
    {
      "metadata": {
        "id": "Xes4ZqzQAYbx",
        "colab_type": "code",
        "colab": {
          "base_uri": "https://localhost:8080/",
          "height": 108
        },
        "outputId": "05646acd-6158-4020-d335-8aaad1964977"
      },
      "cell_type": "code",
      "source": [
        "!ls \"/content/drive/My Drive/data/20 news group problem/\""
      ],
      "execution_count": 3,
      "outputs": [
        {
          "output_type": "stream",
          "text": [
            "20news-bydate-test\t\t       test_tf_idf.joblib\n",
            "20news-bydate-train\t\t       train.csv\n",
            "GoogleNews-vectors-negative300.bin     train_tf_idf.joblib\n",
            "GoogleNews-vectors-negative300.bin.gz  xgb_clf.pickle.dat\n",
            "test.csv\n"
          ],
          "name": "stdout"
        }
      ]
    },
    {
      "metadata": {
        "id": "h9xpyRNNAYeo",
        "colab_type": "code",
        "colab": {}
      },
      "cell_type": "code",
      "source": [
        "df = pd.read_csv('/content/drive/My Drive/data/20 news group problem/train.csv')\n",
        "df1 = pd.read_csv('/content/drive/My Drive/data/20 news group problem/test.csv')\n"
      ],
      "execution_count": 0,
      "outputs": []
    },
    {
      "metadata": {
        "id": "UY2BMBPiAYhx",
        "colab_type": "code",
        "colab": {
          "base_uri": "https://localhost:8080/",
          "height": 72
        },
        "outputId": "76d27f16-5f63-424e-ee4e-9ce197fb4df9"
      },
      "cell_type": "code",
      "source": [
        "df.isna().any()"
      ],
      "execution_count": 5,
      "outputs": [
        {
          "output_type": "execute_result",
          "data": {
            "text/plain": [
              "News         False\n",
              "NewsGroup    False\n",
              "dtype: bool"
            ]
          },
          "metadata": {
            "tags": []
          },
          "execution_count": 5
        }
      ]
    },
    {
      "metadata": {
        "id": "zCo3Qt1vAYkw",
        "colab_type": "code",
        "colab": {
          "base_uri": "https://localhost:8080/",
          "height": 72
        },
        "outputId": "66252266-e0e4-49be-b83a-238795db1dc5"
      },
      "cell_type": "code",
      "source": [
        "df1.isna().any()"
      ],
      "execution_count": 6,
      "outputs": [
        {
          "output_type": "execute_result",
          "data": {
            "text/plain": [
              "News         False\n",
              "NewsGroup    False\n",
              "dtype: bool"
            ]
          },
          "metadata": {
            "tags": []
          },
          "execution_count": 6
        }
      ]
    },
    {
      "metadata": {
        "id": "ZiMbyZJCAYnh",
        "colab_type": "code",
        "colab": {
          "base_uri": "https://localhost:8080/",
          "height": 35
        },
        "outputId": "0b52e32b-e640-486a-8bd6-dfc82ad72e71"
      },
      "cell_type": "code",
      "source": [
        "df.shape, df1.shape"
      ],
      "execution_count": 7,
      "outputs": [
        {
          "output_type": "execute_result",
          "data": {
            "text/plain": [
              "((11314, 2), (7532, 2))"
            ]
          },
          "metadata": {
            "tags": []
          },
          "execution_count": 7
        }
      ]
    },
    {
      "metadata": {
        "id": "QsRiv3DRAYqI",
        "colab_type": "code",
        "colab": {
          "base_uri": "https://localhost:8080/",
          "height": 5508
        },
        "outputId": "36a5279a-9971-4e38-8697-fbf99aecfb60"
      },
      "cell_type": "code",
      "source": [
        "news = df.News.values[0]\n",
        "group = df.NewsGroup.values[0]\n",
        "print(group)\n",
        "print(news)"
      ],
      "execution_count": 8,
      "outputs": [
        {
          "output_type": "stream",
          "text": [
            "alt.atheism\n",
            "From: mathew <mathew@mantis.co.uk>\n",
            "Subject: Alt.Atheism FAQ: Atheist Resources\n",
            "Summary: Books, addresses, music -- anything related to atheism\n",
            "Keywords: FAQ, atheism, books, music, fiction, addresses, contacts\n",
            "Expires: Thu, 29 Apr 1993 11:57:19 GMT\n",
            "Distribution: world\n",
            "Organization: Mantis Consultants, Cambridge. UK.\n",
            "Supersedes: <19930301143317@mantis.co.uk>\n",
            "Lines: 290\n",
            "\n",
            "Archive-name: atheism/resources\n",
            "Alt-atheism-archive-name: resources\n",
            "Last-modified: 11 December 1992\n",
            "Version: 1.0\n",
            "\n",
            "                              Atheist Resources\n",
            "\n",
            "                      Addresses of Atheist Organizations\n",
            "\n",
            "                                     USA\n",
            "\n",
            "FREEDOM FROM RELIGION FOUNDATION\n",
            "\n",
            "Darwin fish bumper stickers and assorted other atheist paraphernalia are\n",
            "available from the Freedom From Religion Foundation in the US.\n",
            "\n",
            "Write to:  FFRF, P.O. Box 750, Madison, WI 53701.\n",
            "Telephone: (608) 256-8900\n",
            "\n",
            "EVOLUTION DESIGNS\n",
            "\n",
            "Evolution Designs sell the \"Darwin fish\".  It's a fish symbol, like the ones\n",
            "Christians stick on their cars, but with feet and the word \"Darwin\" written\n",
            "inside.  The deluxe moulded 3D plastic fish is $4.95 postpaid in the US.\n",
            "\n",
            "Write to:  Evolution Designs, 7119 Laurel Canyon #4, North Hollywood,\n",
            "           CA 91605.\n",
            "\n",
            "People in the San Francisco Bay area can get Darwin Fish from Lynn Gold --\n",
            "try mailing <figmo@netcom.com>.  For net people who go to Lynn directly, the\n",
            "price is $4.95 per fish.\n",
            "\n",
            "AMERICAN ATHEIST PRESS\n",
            "\n",
            "AAP publish various atheist books -- critiques of the Bible, lists of\n",
            "Biblical contradictions, and so on.  One such book is:\n",
            "\n",
            "\"The Bible Handbook\" by W.P. Ball and G.W. Foote.  American Atheist Press.\n",
            "372 pp.  ISBN 0-910309-26-4, 2nd edition, 1986.  Bible contradictions,\n",
            "absurdities, atrocities, immoralities... contains Ball, Foote: \"The Bible\n",
            "Contradicts Itself\", AAP.  Based on the King James version of the Bible.\n",
            "\n",
            "Write to:  American Atheist Press, P.O. Box 140195, Austin, TX 78714-0195.\n",
            "      or:  7215 Cameron Road, Austin, TX 78752-2973.\n",
            "Telephone: (512) 458-1244\n",
            "Fax:       (512) 467-9525\n",
            "\n",
            "PROMETHEUS BOOKS\n",
            "\n",
            "Sell books including Haught's \"Holy Horrors\" (see below).\n",
            "\n",
            "Write to:  700 East Amherst Street, Buffalo, New York 14215.\n",
            "Telephone: (716) 837-2475.\n",
            "\n",
            "An alternate address (which may be newer or older) is:\n",
            "Prometheus Books, 59 Glenn Drive, Buffalo, NY 14228-2197.\n",
            "\n",
            "AFRICAN-AMERICANS FOR HUMANISM\n",
            "\n",
            "An organization promoting black secular humanism and uncovering the history of\n",
            "black freethought.  They publish a quarterly newsletter, AAH EXAMINER.\n",
            "\n",
            "Write to:  Norm R. Allen, Jr., African Americans for Humanism, P.O. Box 664,\n",
            "           Buffalo, NY 14226.\n",
            "\n",
            "                                United Kingdom\n",
            "\n",
            "Rationalist Press Association          National Secular Society\n",
            "88 Islington High Street               702 Holloway Road\n",
            "London N1 8EW                          London N19 3NL\n",
            "071 226 7251                           071 272 1266\n",
            "\n",
            "British Humanist Association           South Place Ethical Society\n",
            "14 Lamb's Conduit Passage              Conway Hall\n",
            "London WC1R 4RH                        Red Lion Square\n",
            "071 430 0908                           London WC1R 4RL\n",
            "fax 071 430 1271                       071 831 7723\n",
            "\n",
            "The National Secular Society publish \"The Freethinker\", a monthly magazine\n",
            "founded in 1881.\n",
            "\n",
            "                                   Germany\n",
            "\n",
            "IBKA e.V.\n",
            "Internationaler Bund der Konfessionslosen und Atheisten\n",
            "Postfach 880, D-1000 Berlin 41. Germany.\n",
            "\n",
            "IBKA publish a journal:\n",
            "MIZ. (Materialien und Informationen zur Zeit. Politisches\n",
            "Journal der Konfessionslosesn und Atheisten. Hrsg. IBKA e.V.)\n",
            "MIZ-Vertrieb, Postfach 880, D-1000 Berlin 41. Germany.\n",
            "\n",
            "For atheist books, write to:\n",
            "\n",
            "IBDK, Internationaler B\"ucherdienst der Konfessionslosen\n",
            "Postfach 3005, D-3000 Hannover 1. Germany.\n",
            "Telephone: 0511/211216\n",
            "\n",
            "\n",
            "                               Books -- Fiction\n",
            "\n",
            "THOMAS M. DISCH\n",
            "\n",
            "\"The Santa Claus Compromise\"\n",
            "Short story.  The ultimate proof that Santa exists.  All characters and \n",
            "events are fictitious.  Any similarity to living or dead gods -- uh, well...\n",
            "\n",
            "WALTER M. MILLER, JR\n",
            "\n",
            "\"A Canticle for Leibowitz\"\n",
            "One gem in this post atomic doomsday novel is the monks who spent their lives\n",
            "copying blueprints from \"Saint Leibowitz\", filling the sheets of paper with\n",
            "ink and leaving white lines and letters.\n",
            "\n",
            "EDGAR PANGBORN\n",
            "\n",
            "\"Davy\"\n",
            "Post atomic doomsday novel set in clerical states.  The church, for example,\n",
            "forbids that anyone \"produce, describe or use any substance containing...\n",
            "atoms\". \n",
            "\n",
            "PHILIP K. DICK\n",
            "\n",
            "Philip K. Dick Dick wrote many philosophical and thought-provoking short \n",
            "stories and novels.  His stories are bizarre at times, but very approachable.\n",
            "He wrote mainly SF, but he wrote about people, truth and religion rather than\n",
            "technology.  Although he often believed that he had met some sort of God, he\n",
            "remained sceptical.  Amongst his novels, the following are of some relevance:\n",
            "\n",
            "\"Galactic Pot-Healer\"\n",
            "A fallible alien deity summons a group of Earth craftsmen and women to a\n",
            "remote planet to raise a giant cathedral from beneath the oceans.  When the\n",
            "deity begins to demand faith from the earthers, pot-healer Joe Fernwright is\n",
            "unable to comply.  A polished, ironic and amusing novel.\n",
            "\n",
            "\"A Maze of Death\"\n",
            "Noteworthy for its description of a technology-based religion.\n",
            "\n",
            "\"VALIS\"\n",
            "The schizophrenic hero searches for the hidden mysteries of Gnostic\n",
            "Christianity after reality is fired into his brain by a pink laser beam of\n",
            "unknown but possibly divine origin.  He is accompanied by his dogmatic and\n",
            "dismissively atheist friend and assorted other odd characters.\n",
            "\n",
            "\"The Divine Invasion\"\n",
            "God invades Earth by making a young woman pregnant as she returns from\n",
            "another star system.  Unfortunately she is terminally ill, and must be\n",
            "assisted by a dead man whose brain is wired to 24-hour easy listening music.\n",
            "\n",
            "MARGARET ATWOOD\n",
            "\n",
            "\"The Handmaid's Tale\"\n",
            "A story based on the premise that the US Congress is mysteriously\n",
            "assassinated, and fundamentalists quickly take charge of the nation to set it\n",
            "\"right\" again.  The book is the diary of a woman's life as she tries to live\n",
            "under the new Christian theocracy.  Women's right to own property is revoked,\n",
            "and their bank accounts are closed; sinful luxuries are outlawed, and the\n",
            "radio is only used for readings from the Bible.  Crimes are punished\n",
            "retroactively: doctors who performed legal abortions in the \"old world\" are\n",
            "hunted down and hanged.  Atwood's writing style is difficult to get used to\n",
            "at first, but the tale grows more and more chilling as it goes on.\n",
            "\n",
            "VARIOUS AUTHORS\n",
            "\n",
            "\"The Bible\"\n",
            "This somewhat dull and rambling work has often been criticized.  However, it\n",
            "is probably worth reading, if only so that you'll know what all the fuss is\n",
            "about.  It exists in many different versions, so make sure you get the one\n",
            "true version.\n",
            "\n",
            "                             Books -- Non-fiction\n",
            "\n",
            "PETER DE ROSA\n",
            "\n",
            "\"Vicars of Christ\", Bantam Press, 1988\n",
            "Although de Rosa seems to be Christian or even Catholic this is a very\n",
            "enlighting history of papal immoralities, adulteries, fallacies etc.\n",
            "(German translation: \"Gottes erste Diener. Die dunkle Seite des Papsttums\",\n",
            "Droemer-Knaur, 1989)\n",
            "\n",
            "MICHAEL MARTIN\n",
            "\n",
            "\"Atheism: A Philosophical Justification\", Temple University Press,\n",
            " Philadelphia, USA.\n",
            "A detailed and scholarly justification of atheism.  Contains an outstanding\n",
            "appendix defining terminology and usage in this (necessarily) tendentious\n",
            "area.  Argues both for \"negative atheism\" (i.e. the \"non-belief in the\n",
            "existence of god(s)\") and also for \"positive atheism\" (\"the belief in the\n",
            "non-existence of god(s)\").  Includes great refutations of the most\n",
            "challenging arguments for god; particular attention is paid to refuting\n",
            "contempory theists such as Platinga and Swinburne.\n",
            "541 pages. ISBN 0-87722-642-3 (hardcover; paperback also available)\n",
            "\n",
            "\"The Case Against Christianity\", Temple University Press\n",
            "A comprehensive critique of Christianity, in which he considers\n",
            "the best contemporary defences of Christianity and (ultimately)\n",
            "demonstrates that they are unsupportable and/or incoherent.\n",
            "273 pages. ISBN 0-87722-767-5\n",
            "\n",
            "JAMES TURNER\n",
            "\n",
            "\"Without God, Without Creed\", The Johns Hopkins University Press, Baltimore,\n",
            " MD, USA\n",
            "Subtitled \"The Origins of Unbelief in America\".  Examines the way in which\n",
            "unbelief (whether agnostic or atheistic)  became a mainstream alternative\n",
            "world-view.  Focusses on the period 1770-1900, and while considering France\n",
            "and Britain the emphasis is on American, and particularly New England\n",
            "developments.  \"Neither a religious history of secularization or atheism,\n",
            "Without God, Without Creed is, rather, the intellectual history of the fate\n",
            "of a single idea, the belief that God exists.\" \n",
            "316 pages. ISBN (hardcover) 0-8018-2494-X (paper) 0-8018-3407-4\n",
            "\n",
            "GEORGE SELDES (Editor)\n",
            "\n",
            "\"The great thoughts\", Ballantine Books, New York, USA\n",
            "A \"dictionary of quotations\" of a different kind, concentrating on statements\n",
            "and writings which, explicitly or implicitly, present the person's philosophy\n",
            "and world-view.  Includes obscure (and often suppressed) opinions from many\n",
            "people.  For some popular observations, traces the way in which various\n",
            "people expressed and twisted the idea over the centuries.  Quite a number of\n",
            "the quotations are derived from Cardiff's \"What Great Men Think of Religion\"\n",
            "and Noyes' \"Views of Religion\".\n",
            "490 pages. ISBN (paper) 0-345-29887-X.\n",
            "\n",
            "RICHARD SWINBURNE\n",
            "\n",
            "\"The Existence of God (Revised Edition)\", Clarendon Paperbacks, Oxford\n",
            "This book is the second volume in a trilogy that began with \"The Coherence of\n",
            "Theism\" (1977) and was concluded with \"Faith and Reason\" (1981).  In this\n",
            "work, Swinburne attempts to construct a series of inductive arguments for the\n",
            "existence of God.  His arguments, which are somewhat tendentious and rely\n",
            "upon the imputation of late 20th century western Christian values and\n",
            "aesthetics to a God which is supposedly as simple as can be conceived, were\n",
            "decisively rejected in Mackie's \"The Miracle of Theism\".  In the revised\n",
            "edition of \"The Existence of God\", Swinburne includes an Appendix in which he\n",
            "makes a somewhat incoherent attempt to rebut Mackie.\n",
            "\n",
            "J. L. MACKIE\n",
            "\n",
            "\"The Miracle of Theism\", Oxford\n",
            "This (posthumous) volume contains a comprehensive review of the principal\n",
            "arguments for and against the existence of God.  It ranges from the classical\n",
            "philosophical positions of Descartes, Anselm, Berkeley, Hume et al, through\n",
            "the moral arguments of Newman, Kant and Sidgwick, to the recent restatements\n",
            "of the classical theses by Plantinga and Swinburne.  It also addresses those\n",
            "positions which push the concept of God beyond the realm of the rational,\n",
            "such as those of Kierkegaard, Kung and Philips, as well as \"replacements for\n",
            "God\" such as Lelie's axiarchism.  The book is a delight to read - less\n",
            "formalistic and better written than Martin's works, and refreshingly direct\n",
            "when compared with the hand-waving of Swinburne.\n",
            "\n",
            "JAMES A. HAUGHT\n",
            "\n",
            "\"Holy Horrors: An Illustrated History of Religious Murder and Madness\",\n",
            " Prometheus Books\n",
            "Looks at religious persecution from ancient times to the present day -- and\n",
            "not only by Christians.\n",
            "Library of Congress Catalog Card Number 89-64079. 1990.\n",
            "\n",
            "NORM R. ALLEN, JR.\n",
            "\n",
            "\"African American Humanism: an Anthology\"\n",
            "See the listing for African Americans for Humanism above.\n",
            "\n",
            "GORDON STEIN\n",
            "\n",
            "\"An Anthology of Atheism and Rationalism\", Prometheus Books\n",
            "An anthology covering a wide range of subjects, including 'The Devil, Evil\n",
            "and Morality' and 'The History of Freethought'.  Comprehensive bibliography.\n",
            "\n",
            "EDMUND D. COHEN\n",
            "\n",
            "\"The Mind of The Bible-Believer\", Prometheus Books\n",
            "A study of why people become Christian fundamentalists, and what effect it\n",
            "has on them.\n",
            "\n",
            "                                Net Resources\n",
            "\n",
            "There's a small mail-based archive server at mantis.co.uk which carries\n",
            "archives of old alt.atheism.moderated articles and assorted other files.  For\n",
            "more information, send mail to archive-server@mantis.co.uk saying\n",
            "\n",
            "   help\n",
            "   send atheism/index\n",
            "\n",
            "and it will mail back a reply.\n",
            "\n",
            "\n",
            "mathew\n",
            "ÿ\n",
            "\n"
          ],
          "name": "stdout"
        }
      ]
    },
    {
      "metadata": {
        "id": "rty-0uMwAms3",
        "colab_type": "code",
        "colab": {
          "base_uri": "https://localhost:8080/",
          "height": 400
        },
        "outputId": "82f5eee0-52fc-42ec-d29c-713e977c54e6"
      },
      "cell_type": "code",
      "source": [
        "data_per_group = df.NewsGroup.value_counts()\n",
        "plt.figure(figsize=(10,6))\n",
        "sns.barplot(data_per_group.index, data_per_group.values)\n",
        "plt.ylabel('Count', fontsize=18)\n",
        "plt.xlabel('Group', fontsize=18);"
      ],
      "execution_count": 9,
      "outputs": [
        {
          "output_type": "display_data",
          "data": {
            "image/png": "[encoded data removed]",
            "text/plain": [
              "<Figure size 720x432 with 1 Axes>"
            ]
          },
          "metadata": {
            "tags": []
          }
        }
      ]
    },
    {
      "metadata": {
        "id": "7WaN80UqAmvN",
        "colab_type": "code",
        "colab": {
          "base_uri": "https://localhost:8080/",
          "height": 399
        },
        "outputId": "8ae3634e-a84a-4703-e201-5bdb5e481a9c"
      },
      "cell_type": "code",
      "source": [
        "print(data_per_group)"
      ],
      "execution_count": 10,
      "outputs": [
        {
          "output_type": "stream",
          "text": [
            "rec.sport.hockey            600\n",
            "soc.religion.christian      599\n",
            "rec.motorcycles             598\n",
            "rec.sport.baseball          597\n",
            "sci.crypt                   595\n",
            "rec.autos                   594\n",
            "sci.med                     594\n",
            "comp.windows.x              593\n",
            "sci.space                   593\n",
            "sci.electronics             591\n",
            "comp.os.ms-windows.misc     591\n",
            "comp.sys.ibm.pc.hardware    590\n",
            "misc.forsale                585\n",
            "comp.graphics               584\n",
            "comp.sys.mac.hardware       578\n",
            "talk.politics.mideast       564\n",
            "talk.politics.guns          546\n",
            "alt.atheism                 480\n",
            "talk.politics.misc          465\n",
            "talk.religion.misc          377\n",
            "Name: NewsGroup, dtype: int64\n"
          ],
          "name": "stdout"
        }
      ]
    },
    {
      "metadata": {
        "id": "FHR1zq5UAmyd",
        "colab_type": "code",
        "colab": {}
      },
      "cell_type": "code",
      "source": [
        ""
      ],
      "execution_count": 0,
      "outputs": []
    },
    {
      "metadata": {
        "id": "a2wyzGl4Am6V",
        "colab_type": "code",
        "colab": {}
      },
      "cell_type": "code",
      "source": [
        "import re\n",
        "\n",
        "def decontracted(phrase):\n",
        "    # general\n",
        "    phrase = re.sub(r\"n\\'t\", \" not\", phrase)\n",
        "    phrase = re.sub(r\"\\'re\", \" are\", phrase)\n",
        "    phrase = re.sub(r\"\\'s\", \" is\", phrase)\n",
        "    phrase = re.sub(r\"\\'d\", \" would\", phrase)\n",
        "    phrase = re.sub(r\"\\'ll\", \" will\", phrase)\n",
        "    phrase = re.sub(r\"\\'t\", \" not\", phrase)\n",
        "    phrase = re.sub(r\"\\'ve\", \" have\", phrase)\n",
        "    phrase = re.sub(r\"\\'m\", \" am\", phrase)\n",
        "    return phrase"
      ],
      "execution_count": 0,
      "outputs": []
    },
    {
      "metadata": {
        "id": "t8g1HZHoArH-",
        "colab_type": "code",
        "colab": {}
      },
      "cell_type": "code",
      "source": [
        "stopwords= set(['br', 'the', 'i', 'me', 'my', 'myself', 'we', 'our', 'ours', 'ourselves', 'you', \"you're\", \"you've\",\\\n",
        "            \"you'll\", \"you'd\", 'your', 'yours', 'yourself', 'yourselves', 'he', 'him', 'his', 'himself', \\\n",
        "            'she', \"she's\", 'her', 'hers', 'herself', 'it', \"it's\", 'its', 'itself', 'they', 'them', 'their',\\\n",
        "            'theirs', 'themselves', 'what', 'which', 'who', 'whom', 'this', 'that', \"that'll\", 'these', 'those', \\\n",
        "            'am', 'is', 'are', 'was', 'were', 'be', 'been', 'being', 'have', 'has', 'had', 'having', 'do', 'does', \\\n",
        "            'did', 'doing', 'a', 'an', 'the', 'and', 'but', 'if', 'or', 'because', 'as', 'until', 'while', 'of', \\\n",
        "            'at', 'by', 'for', 'with', 'about', 'against', 'between', 'into', 'through', 'during', 'before', 'after',\\\n",
        "            'above', 'below', 'to', 'from', 'up', 'down', 'in', 'out', 'on', 'off', 'over', 'under', 'again', 'further',\\\n",
        "            'then', 'once', 'here', 'there', 'when', 'where', 'why', 'how', 'all', 'any', 'both', 'each', 'few', 'more',\\\n",
        "            'most', 'other', 'some', 'such', 'only', 'own', 'same', 'so', 'than', 'too', 'very', \\\n",
        "            's', 't', 'can', 'will', 'just', 'don', \"don't\", 'should', \"should've\", 'now', 'd', 'll', 'm', 'o', 're', \\\n",
        "            've', 'y', 'ain', 'aren', \"aren't\", 'couldn', \"couldn't\", 'didn', \"didn't\", 'doesn', \"doesn't\", 'hadn',\\\n",
        "            \"hadn't\", 'hasn', \"hasn't\", 'haven', \"haven't\", 'isn', \"isn't\", 'ma', 'mightn', \"mightn't\", 'mustn',\\\n",
        "            \"mustn't\", 'needn', \"needn't\", 'shan', \"shan't\", 'shouldn', \"shouldn't\", 'wasn', \"wasn't\", 'weren', \"weren't\", \\\n",
        "            'won', \"won't\", 'wouldn', \"wouldn't\"])"
      ],
      "execution_count": 0,
      "outputs": []
    },
    {
      "metadata": {
        "id": "FOhjYUOQArKv",
        "colab_type": "code",
        "colab": {
          "base_uri": "https://localhost:8080/",
          "height": 35
        },
        "outputId": "aae61823-f753-4dbe-f068-666a11c2c651"
      },
      "cell_type": "code",
      "source": [
        "from tqdm import tqdm\n",
        "from bs4 import BeautifulSoup\n",
        "preprocessed_news = []\n",
        "# tqdm is for printing the status bar\n",
        "for news in tqdm(df.News):\n",
        "    news = re.sub('<.*?>', '', news)\n",
        "    news = re.sub(r\"http\\S+\", \"\", news)\n",
        "    news = BeautifulSoup(news, 'lxml').get_text()\n",
        "    news = decontracted(news)\n",
        "    news = re.sub(\"\\S*\\d\\S*\", \"\", news).strip()\n",
        "    news = re.sub('[^A-Za-z]+', ' ', news)\n",
        "    # https://gist.github.com/sebleier/554280\n",
        "    news = ' '.join(e.lower() for e in news.split() if e.lower() not in stopwords)\n",
        "    preprocessed_news.append(news.strip())\n",
        "\n",
        "    \n",
        "#print(preprocessed_reviews)"
      ],
      "execution_count": 13,
      "outputs": [
        {
          "output_type": "stream",
          "text": [
            "100%|██████████| 11314/11314 [00:08<00:00, 1359.89it/s]\n"
          ],
          "name": "stderr"
        }
      ]
    },
    {
      "metadata": {
        "id": "GKiEKBE2ArNV",
        "colab_type": "code",
        "colab": {
          "base_uri": "https://localhost:8080/",
          "height": 35
        },
        "outputId": "2f3dacae-5e46-4cae-ce84-dc60c43d860f"
      },
      "cell_type": "code",
      "source": [
        "from tqdm import tqdm\n",
        "from bs4 import BeautifulSoup\n",
        "preprocessed_news_test = []\n",
        "# tqdm is for printing the status bar\n",
        "for news in tqdm(df1.News):\n",
        "    news = re.sub('<.*?>', '', news)\n",
        "    news = re.sub(r\"http\\S+\", \"\", news)\n",
        "    news = BeautifulSoup(news, 'lxml').get_text()\n",
        "    news = decontracted(news)\n",
        "    news = re.sub(\"\\S*\\d\\S*\", \"\", news).strip()\n",
        "    news = re.sub('[^A-Za-z]+', ' ', news)\n",
        "    # https://gist.github.com/sebleier/554280\n",
        "    news = ' '.join(e.lower() for e in news.split() if e.lower() not in stopwords)\n",
        "    preprocessed_news_test.append(news.strip())\n",
        "\n",
        "    \n",
        "#print(preprocessed_reviews)"
      ],
      "execution_count": 14,
      "outputs": [
        {
          "output_type": "stream",
          "text": [
            "100%|██████████| 7532/7532 [00:04<00:00, 1515.44it/s]\n"
          ],
          "name": "stderr"
        }
      ]
    },
    {
      "metadata": {
        "id": "CKSOKloRArQG",
        "colab_type": "code",
        "colab": {}
      },
      "cell_type": "code",
      "source": [
        "y_train = df.NewsGroup\n",
        "y_test = df1.NewsGroup"
      ],
      "execution_count": 0,
      "outputs": []
    },
    {
      "metadata": {
        "id": "E4Rq9Sw5ArS-",
        "colab_type": "code",
        "colab": {}
      },
      "cell_type": "code",
      "source": [
        "from sklearn import preprocessing\n",
        "le = preprocessing.LabelEncoder()\n",
        "y_train = le.fit_transform(y_train)\n",
        "y_test = le.fit_transform(y_test)"
      ],
      "execution_count": 0,
      "outputs": []
    },
    {
      "metadata": {
        "id": "1cAydhACHL7u",
        "colab_type": "code",
        "colab": {
          "base_uri": "https://localhost:8080/",
          "height": 1183
        },
        "outputId": "8d3e3058-9b09-48d4-e84c-96c3c74f1538"
      },
      "cell_type": "code",
      "source": [
        "!pip install flair"
      ],
      "execution_count": 46,
      "outputs": [
        {
          "output_type": "stream",
          "text": [
            "Collecting flair\n",
            "\u001b[?25l  Downloading https://files.pythonhosted.org/packages/44/54/76374f9a448ca765446502e7f2bb53c976e9c055102290fe6f8b0b038b37/flair-0.4.1.tar.gz (78kB)\n",
            "\r\u001b[K     |████▏                           | 10kB 23.2MB/s eta 0:00:01\r\u001b[K     |████████▍                       | 20kB 6.6MB/s eta 0:00:01\r\u001b[K     |████████████▌                   | 30kB 9.3MB/s eta 0:00:01\r\u001b[K     |████████████████▊               | 40kB 6.1MB/s eta 0:00:01\r\u001b[K     |████████████████████▉           | 51kB 7.4MB/s eta 0:00:01\r\u001b[K     |█████████████████████████       | 61kB 8.8MB/s eta 0:00:01\r\u001b[K     |█████████████████████████████▏  | 71kB 10.0MB/s eta 0:00:01\r\u001b[K     |████████████████████████████████| 81kB 9.9MB/s \n",
            "\u001b[?25hRequirement already satisfied: torch>=1.0.0 in /usr/local/lib/python3.6/dist-packages (from flair) (1.0.1.post2)\n",
            "Requirement already satisfied: gensim>=3.4.0 in /usr/local/lib/python3.6/dist-packages (from flair) (3.6.0)\n",
            "Requirement already satisfied: tqdm>=4.26.0 in /usr/local/lib/python3.6/dist-packages (from flair) (4.28.1)\n",
            "Collecting segtok>=1.5.7 (from flair)\n",
            "  Downloading https://files.pythonhosted.org/packages/1d/59/6ed78856ab99d2da04084b59e7da797972baa0efecb71546b16d48e49d9b/segtok-1.5.7.tar.gz\n",
            "Requirement already satisfied: matplotlib>=2.2.3 in /usr/local/lib/python3.6/dist-packages (from flair) (3.0.3)\n",
            "Collecting mpld3>=0.3 (from flair)\n",
            "\u001b[?25l  Downloading https://files.pythonhosted.org/packages/91/95/a52d3a83d0a29ba0d6898f6727e9858fe7a43f6c2ce81a5fe7e05f0f4912/mpld3-0.3.tar.gz (788kB)\n",
            "\u001b[K     |████████████████████████████████| 798kB 29.9MB/s \n",
            "\u001b[?25hRequirement already satisfied: sklearn in /usr/local/lib/python3.6/dist-packages (from flair) (0.0)\n",
            "Collecting sqlitedict>=1.6.0 (from flair)\n",
            "  Downloading https://files.pythonhosted.org/packages/0f/1c/c757b93147a219cf1e25cef7e1ad9b595b7f802159493c45ce116521caff/sqlitedict-1.6.0.tar.gz\n",
            "Collecting deprecated>=1.2.4 (from flair)\n",
            "  Downloading https://files.pythonhosted.org/packages/9f/7a/003fa432f1e45625626549726c2fbb7a29baa764e9d1fdb2323a5d779f8a/Deprecated-1.2.5-py2.py3-none-any.whl\n",
            "Requirement already satisfied: hyperopt>=0.1.1 in /usr/local/lib/python3.6/dist-packages (from flair) (0.1.2)\n",
            "Requirement already satisfied: pytorch-pretrained-bert>=0.6.1 in /usr/local/lib/python3.6/dist-packages (from flair) (0.6.2)\n",
            "Collecting bpemb>=0.2.9 (from flair)\n",
            "  Downloading https://files.pythonhosted.org/packages/57/90/8760eaa97c5a2f676f3f350fd43e79f8d9e4f9c42362c62f733e81e37d33/bpemb-0.2.12-py3-none-any.whl\n",
            "Requirement already satisfied: regex==2018.1.10 in /usr/local/lib/python3.6/dist-packages (from flair) (2018.1.10)\n",
            "Requirement already satisfied: numpy>=1.11.3 in /usr/local/lib/python3.6/dist-packages (from gensim>=3.4.0->flair) (1.16.3)\n",
            "Requirement already satisfied: scipy>=0.18.1 in /usr/local/lib/python3.6/dist-packages (from gensim>=3.4.0->flair) (1.2.1)\n",
            "Requirement already satisfied: six>=1.5.0 in /usr/local/lib/python3.6/dist-packages (from gensim>=3.4.0->flair) (1.12.0)\n",
            "Requirement already satisfied: smart-open>=1.2.1 in /usr/local/lib/python3.6/dist-packages (from gensim>=3.4.0->flair) (1.8.3)\n",
            "Requirement already satisfied: kiwisolver>=1.0.1 in /usr/local/lib/python3.6/dist-packages (from matplotlib>=2.2.3->flair) (1.1.0)\n",
            "Requirement already satisfied: pyparsing!=2.0.4,!=2.1.2,!=2.1.6,>=2.0.1 in /usr/local/lib/python3.6/dist-packages (from matplotlib>=2.2.3->flair) (2.4.0)\n",
            "Requirement already satisfied: cycler>=0.10 in /usr/local/lib/python3.6/dist-packages (from matplotlib>=2.2.3->flair) (0.10.0)\n",
            "Requirement already satisfied: python-dateutil>=2.1 in /usr/local/lib/python3.6/dist-packages (from matplotlib>=2.2.3->flair) (2.5.3)\n",
            "Requirement already satisfied: scikit-learn in /usr/local/lib/python3.6/dist-packages (from sklearn->flair) (0.20.3)\n",
            "Requirement already satisfied: wrapt<2,>=1 in /usr/local/lib/python3.6/dist-packages (from deprecated>=1.2.4->flair) (1.10.11)\n",
            "Requirement already satisfied: pymongo in /usr/local/lib/python3.6/dist-packages (from hyperopt>=0.1.1->flair) (3.8.0)\n",
            "Requirement already satisfied: future in /usr/local/lib/python3.6/dist-packages (from hyperopt>=0.1.1->flair) (0.16.0)\n",
            "Requirement already satisfied: networkx in /usr/local/lib/python3.6/dist-packages (from hyperopt>=0.1.1->flair) (2.3)\n",
            "Requirement already satisfied: boto3 in /usr/local/lib/python3.6/dist-packages (from pytorch-pretrained-bert>=0.6.1->flair) (1.9.137)\n",
            "Requirement already satisfied: requests in /usr/local/lib/python3.6/dist-packages (from pytorch-pretrained-bert>=0.6.1->flair) (2.21.0)\n",
            "Collecting sentencepiece (from bpemb>=0.2.9->flair)\n",
            "\u001b[?25l  Downloading https://files.pythonhosted.org/packages/00/95/7f357995d5eb1131aa2092096dca14a6fc1b1d2860bd99c22a612e1d1019/sentencepiece-0.1.82-cp36-cp36m-manylinux1_x86_64.whl (1.0MB)\n",
            "\u001b[K     |████████████████████████████████| 1.0MB 49.7MB/s \n",
            "\u001b[?25hRequirement already satisfied: boto>=2.32 in /usr/local/lib/python3.6/dist-packages (from smart-open>=1.2.1->gensim>=3.4.0->flair) (2.49.0)\n",
            "Requirement already satisfied: setuptools in /usr/local/lib/python3.6/dist-packages (from kiwisolver>=1.0.1->matplotlib>=2.2.3->flair) (41.0.1)\n",
            "Requirement already satisfied: decorator>=4.3.0 in /usr/local/lib/python3.6/dist-packages (from networkx->hyperopt>=0.1.1->flair) (4.4.0)\n",
            "Requirement already satisfied: s3transfer<0.3.0,>=0.2.0 in /usr/local/lib/python3.6/dist-packages (from boto3->pytorch-pretrained-bert>=0.6.1->flair) (0.2.0)\n",
            "Requirement already satisfied: botocore<1.13.0,>=1.12.137 in /usr/local/lib/python3.6/dist-packages (from boto3->pytorch-pretrained-bert>=0.6.1->flair) (1.12.137)\n",
            "Requirement already satisfied: jmespath<1.0.0,>=0.7.1 in /usr/local/lib/python3.6/dist-packages (from boto3->pytorch-pretrained-bert>=0.6.1->flair) (0.9.4)\n",
            "Requirement already satisfied: chardet<3.1.0,>=3.0.2 in /usr/local/lib/python3.6/dist-packages (from requests->pytorch-pretrained-bert>=0.6.1->flair) (3.0.4)\n",
            "Requirement already satisfied: urllib3<1.25,>=1.21.1 in /usr/local/lib/python3.6/dist-packages (from requests->pytorch-pretrained-bert>=0.6.1->flair) (1.24.2)\n",
            "Requirement already satisfied: certifi>=2017.4.17 in /usr/local/lib/python3.6/dist-packages (from requests->pytorch-pretrained-bert>=0.6.1->flair) (2019.3.9)\n",
            "Requirement already satisfied: idna<2.9,>=2.5 in /usr/local/lib/python3.6/dist-packages (from requests->pytorch-pretrained-bert>=0.6.1->flair) (2.8)\n",
            "Requirement already satisfied: docutils>=0.10 in /usr/local/lib/python3.6/dist-packages (from botocore<1.13.0,>=1.12.137->boto3->pytorch-pretrained-bert>=0.6.1->flair) (0.14)\n",
            "Building wheels for collected packages: flair, segtok, mpld3, sqlitedict\n",
            "  Building wheel for flair (setup.py) ... \u001b[?25l\u001b[?25hdone\n",
            "  Stored in directory: /root/.cache/pip/wheels/70/55/6b/c12cf58209b8346f653a04f37dd8f607ab0e85a26238a23420\n",
            "  Building wheel for segtok (setup.py) ... \u001b[?25l\u001b[?25hdone\n",
            "  Stored in directory: /root/.cache/pip/wheels/15/ee/a8/6112173f1386d33eebedb3f73429cfa41a4c3084556bcee254\n",
            "  Building wheel for mpld3 (setup.py) ... \u001b[?25l\u001b[?25hdone\n",
            "  Stored in directory: /root/.cache/pip/wheels/c0/47/fb/8a64f89aecfe0059830479308ad42d62e898a3e3cefdf6ba28\n",
            "  Building wheel for sqlitedict (setup.py) ... \u001b[?25l\u001b[?25hdone\n",
            "  Stored in directory: /root/.cache/pip/wheels/bd/57/d3/907c3ee02d35e66f674ad0106e61f06eeeb98f6ee66a6cc3fe\n",
            "Successfully built flair segtok mpld3 sqlitedict\n",
            "Installing collected packages: segtok, mpld3, sqlitedict, deprecated, sentencepiece, bpemb, flair\n",
            "Successfully installed bpemb-0.2.12 deprecated-1.2.5 flair-0.4.1 mpld3-0.3 segtok-1.5.7 sentencepiece-0.1.82 sqlitedict-1.6.0\n"
          ],
          "name": "stdout"
        }
      ]
    },
    {
      "metadata": {
        "id": "zB3rqv1uTtMi",
        "colab_type": "code",
        "colab": {
          "base_uri": "https://localhost:8080/",
          "height": 183
        },
        "outputId": "614c523d-c78f-4e91-f60d-e909b04152ad"
      },
      "cell_type": "code",
      "source": [
        "from flair.models import TextClassifier\n",
        "from flair.data import Sentence\n",
        "classifier = TextClassifier.load('en-sentiment')\n",
        "sentence = Sentence('Flair is pretty neat!')\n",
        "classifier.predict(sentence)\n",
        "# print sentence with predicted labels\n",
        "print('Sentence above is: ', sentence.labels)"
      ],
      "execution_count": 47,
      "outputs": [
        {
          "output_type": "stream",
          "text": [
            "2019-05-02 11:31:01,103 https://s3.eu-central-1.amazonaws.com/alan-nlp/resources/models-v0.4/TEXT-CLASSIFICATION_imdb/imdb.pt not found in cache, downloading to /tmp/tmpez1svbrf\n"
          ],
          "name": "stdout"
        },
        {
          "output_type": "stream",
          "text": [
            "100%|██████████| 2794252905/2794252905 [01:00<00:00, 45838214.53B/s]"
          ],
          "name": "stderr"
        },
        {
          "output_type": "stream",
          "text": [
            "2019-05-02 11:32:02,256 copying /tmp/tmpez1svbrf to cache at /root/.flair/models/imdb.pt\n"
          ],
          "name": "stdout"
        },
        {
          "output_type": "stream",
          "text": [
            "\n"
          ],
          "name": "stderr"
        },
        {
          "output_type": "stream",
          "text": [
            "2019-05-02 11:32:25,424 removing temp file /tmp/tmpez1svbrf\n",
            "2019-05-02 11:32:25,447 loading file /root/.flair/models/imdb.pt\n"
          ],
          "name": "stdout"
        },
        {
          "output_type": "stream",
          "text": [
            "/usr/local/lib/python3.6/dist-packages/torch/serialization.py:542: DeprecationWarning: Call to deprecated class DocumentLSTMEmbeddings. (The functionality of this class is moved to 'DocumentRNNEmbeddings') -- Deprecated since version 0.4.\n",
            "  result = unpickler.load()\n"
          ],
          "name": "stderr"
        },
        {
          "output_type": "stream",
          "text": [
            "Sentence above is:  [POSITIVE (1.0)]\n"
          ],
          "name": "stdout"
        }
      ]
    },
    {
      "metadata": {
        "id": "zxeS3HG5VafV",
        "colab_type": "code",
        "colab": {
          "base_uri": "https://localhost:8080/",
          "height": 78
        },
        "outputId": "631d2926-3708-4c72-9755-96eaa21672bd"
      },
      "cell_type": "code",
      "source": [
        "df.head(1)"
      ],
      "execution_count": 50,
      "outputs": [
        {
          "output_type": "execute_result",
          "data": {
            "text/html": [
              "<div>\n",
              "<style scoped>\n",
              "    .dataframe tbody tr th:only-of-type {\n",
              "        vertical-align: middle;\n",
              "    }\n",
              "\n",
              "    .dataframe tbody tr th {\n",
              "        vertical-align: top;\n",
              "    }\n",
              "\n",
              "    .dataframe thead th {\n",
              "        text-align: right;\n",
              "    }\n",
              "</style>\n",
              "<table border=\"1\" class=\"dataframe\">\n",
              "  <thead>\n",
              "    <tr style=\"text-align: right;\">\n",
              "      <th></th>\n",
              "      <th>News</th>\n",
              "      <th>NewsGroup</th>\n",
              "    </tr>\n",
              "  </thead>\n",
              "  <tbody>\n",
              "    <tr>\n",
              "      <th>0</th>\n",
              "      <td>From: mathew &lt;mathew@mantis.co.uk&gt;\\nSubject: A...</td>\n",
              "      <td>alt.atheism</td>\n",
              "    </tr>\n",
              "  </tbody>\n",
              "</table>\n",
              "</div>"
            ],
            "text/plain": [
              "                                                News    NewsGroup\n",
              "0  From: mathew <mathew@mantis.co.uk>\\nSubject: A...  alt.atheism"
            ]
          },
          "metadata": {
            "tags": []
          },
          "execution_count": 50
        }
      ]
    },
    {
      "metadata": {
        "id": "jkFmnc-hWLMU",
        "colab_type": "code",
        "colab": {
          "base_uri": "https://localhost:8080/",
          "height": 198
        },
        "outputId": "4bce56ac-e8e4-45b4-f9f2-ffd43b000693"
      },
      "cell_type": "code",
      "source": [
        "df2 = pd.DataFrame(columns = ['label', 'text'])\n",
        "df2.label = df.NewsGroup\n",
        "df2.text = preprocessed_news\n",
        "df2.head()"
      ],
      "execution_count": 99,
      "outputs": [
        {
          "output_type": "execute_result",
          "data": {
            "text/html": [
              "<div>\n",
              "<style scoped>\n",
              "    .dataframe tbody tr th:only-of-type {\n",
              "        vertical-align: middle;\n",
              "    }\n",
              "\n",
              "    .dataframe tbody tr th {\n",
              "        vertical-align: top;\n",
              "    }\n",
              "\n",
              "    .dataframe thead th {\n",
              "        text-align: right;\n",
              "    }\n",
              "</style>\n",
              "<table border=\"1\" class=\"dataframe\">\n",
              "  <thead>\n",
              "    <tr style=\"text-align: right;\">\n",
              "      <th></th>\n",
              "      <th>label</th>\n",
              "      <th>text</th>\n",
              "    </tr>\n",
              "  </thead>\n",
              "  <tbody>\n",
              "    <tr>\n",
              "      <th>0</th>\n",
              "      <td>alt.atheism</td>\n",
              "      <td>mathew subject alt atheism faq atheist resourc...</td>\n",
              "    </tr>\n",
              "    <tr>\n",
              "      <th>1</th>\n",
              "      <td>alt.atheism</td>\n",
              "      <td>subject must creator maybe halat pooh bears ji...</td>\n",
              "    </tr>\n",
              "    <tr>\n",
              "      <th>2</th>\n",
              "      <td>alt.atheism</td>\n",
              "      <td>subject americans evolution halat pooh bears j...</td>\n",
              "    </tr>\n",
              "    <tr>\n",
              "      <th>3</th>\n",
              "      <td>alt.atheism</td>\n",
              "      <td>keith cco caltech edu keith allan schneider su...</td>\n",
              "    </tr>\n",
              "    <tr>\n",
              "      <th>4</th>\n",
              "      <td>alt.atheism</td>\n",
              "      <td>keith cco caltech edu keith allan schneider su...</td>\n",
              "    </tr>\n",
              "  </tbody>\n",
              "</table>\n",
              "</div>"
            ],
            "text/plain": [
              "         label                                               text\n",
              "0  alt.atheism  mathew subject alt atheism faq atheist resourc...\n",
              "1  alt.atheism  subject must creator maybe halat pooh bears ji...\n",
              "2  alt.atheism  subject americans evolution halat pooh bears j...\n",
              "3  alt.atheism  keith cco caltech edu keith allan schneider su...\n",
              "4  alt.atheism  keith cco caltech edu keith allan schneider su..."
            ]
          },
          "metadata": {
            "tags": []
          },
          "execution_count": 99
        }
      ]
    },
    {
      "metadata": {
        "id": "lmGObMuPWaqJ",
        "colab_type": "code",
        "colab": {
          "base_uri": "https://localhost:8080/",
          "height": 198
        },
        "outputId": "d20f930f-8b4b-4bc1-d333-08165a9c74f7"
      },
      "cell_type": "code",
      "source": [
        "df3 = pd.DataFrame(columns = ['label', 'text'])\n",
        "df3.label = df1.NewsGroup\n",
        "df3.text = preprocessed_news_test\n",
        "df3.head()\n"
      ],
      "execution_count": 103,
      "outputs": [
        {
          "output_type": "execute_result",
          "data": {
            "text/html": [
              "<div>\n",
              "<style scoped>\n",
              "    .dataframe tbody tr th:only-of-type {\n",
              "        vertical-align: middle;\n",
              "    }\n",
              "\n",
              "    .dataframe tbody tr th {\n",
              "        vertical-align: top;\n",
              "    }\n",
              "\n",
              "    .dataframe thead th {\n",
              "        text-align: right;\n",
              "    }\n",
              "</style>\n",
              "<table border=\"1\" class=\"dataframe\">\n",
              "  <thead>\n",
              "    <tr style=\"text-align: right;\">\n",
              "      <th></th>\n",
              "      <th>label</th>\n",
              "      <th>text</th>\n",
              "    </tr>\n",
              "  </thead>\n",
              "  <tbody>\n",
              "    <tr>\n",
              "      <th>0</th>\n",
              "      <td>alt.atheism</td>\n",
              "      <td>nanci ann miller subject amusing atheists agno...</td>\n",
              "    </tr>\n",
              "    <tr>\n",
              "      <th>1</th>\n",
              "      <td>alt.atheism</td>\n",
              "      <td>acooper mac cc macalstr edu turin turambar dep...</td>\n",
              "    </tr>\n",
              "    <tr>\n",
              "      <th>2</th>\n",
              "      <td>alt.atheism</td>\n",
              "      <td>mathew subject yet rushdie islamic law organiz...</td>\n",
              "    </tr>\n",
              "    <tr>\n",
              "      <th>3</th>\n",
              "      <td>alt.atheism</td>\n",
              "      <td>acooper mac cc macalstr edu turin turambar dep...</td>\n",
              "    </tr>\n",
              "    <tr>\n",
              "      <th>4</th>\n",
              "      <td>alt.atheism</td>\n",
              "      <td>jbrown batman bmd trw com subject gulf war sel...</td>\n",
              "    </tr>\n",
              "  </tbody>\n",
              "</table>\n",
              "</div>"
            ],
            "text/plain": [
              "         label                                               text\n",
              "0  alt.atheism  nanci ann miller subject amusing atheists agno...\n",
              "1  alt.atheism  acooper mac cc macalstr edu turin turambar dep...\n",
              "2  alt.atheism  mathew subject yet rushdie islamic law organiz...\n",
              "3  alt.atheism  acooper mac cc macalstr edu turin turambar dep...\n",
              "4  alt.atheism  jbrown batman bmd trw com subject gulf war sel..."
            ]
          },
          "metadata": {
            "tags": []
          },
          "execution_count": 103
        }
      ]
    },
    {
      "metadata": {
        "id": "_EqlAsbxWgs0",
        "colab_type": "code",
        "colab": {
          "base_uri": "https://localhost:8080/",
          "height": 55
        },
        "outputId": "314afb0a-e59e-48e2-e164-06ebd1dea106"
      },
      "cell_type": "code",
      "source": [
        "preprocessed_news_test[0]"
      ],
      "execution_count": 102,
      "outputs": [
        {
          "output_type": "execute_result",
          "data": {
            "text/plain": [
              "'nanci ann miller subject amusing atheists agnostics organization sponsored account school computer science carnegie mellon pittsburgh pa lines nntp posting host reply timmbake mcl ucsb edu bake timmons writes lies hypocrisy dude atheism takes much faith theism admit people might think takes faith atheist faith take kind faith say great invisible pink unicorn not exist take kind faith say santa claus not exist may people suppose certainly not big leap faith say things god exist suppose depends notion definition faith besides not believing god means one not deal extra baggage comes leaves person feeling wonderfully free especially beaten head years agree religion belief often important psychological healer many people reason think important however trying force psychological fantasy not mean bad way really someone else not interested extremely rude still believed santa claus said belief santa wonderful things life making better person allowing live without guilt etc tried get believe santa cuz much would call men white coats soon could get phone bake timmons iii nanci babbling know sure author quote please send email spring nature way saying let party'"
            ]
          },
          "metadata": {
            "tags": []
          },
          "execution_count": 102
        }
      ]
    },
    {
      "metadata": {
        "id": "SOHAc1CGWkTE",
        "colab_type": "code",
        "colab": {}
      },
      "cell_type": "code",
      "source": [
        "df2['label'] = '__label__' + df2['label'].astype(str)\n",
        "df3['label'] = '__label__' + df3['label'].astype(str)"
      ],
      "execution_count": 0,
      "outputs": []
    },
    {
      "metadata": {
        "id": "li_6dj7BTtSt",
        "colab_type": "code",
        "colab": {}
      },
      "cell_type": "code",
      "source": [
        "\n"
      ],
      "execution_count": 0,
      "outputs": []
    },
    {
      "metadata": {
        "id": "wu8W3Gk_YMoM",
        "colab_type": "code",
        "colab": {}
      },
      "cell_type": "code",
      "source": [
        "df2.iloc[0:int(len(df2)*0.8)].to_csv('train.csv', sep='\\t', index = False, header = False, columns=['label', 'text'])\n",
        "df2.iloc[int(len(df2)*0.8):].to_csv('dev.csv', sep='\\t', index = False, header = False, columns=['label', 'text'])"
      ],
      "execution_count": 0,
      "outputs": []
    },
    {
      "metadata": {
        "id": "0R9Jp0ljTtYJ",
        "colab_type": "code",
        "colab": {}
      },
      "cell_type": "code",
      "source": [
        "df3.iloc[:].to_csv('test.csv', sep='\\t', index = False, header = False, columns=['label', 'text'])"
      ],
      "execution_count": 0,
      "outputs": []
    },
    {
      "metadata": {
        "id": "JACvhp2bXz8C",
        "colab_type": "code",
        "colab": {
          "base_uri": "https://localhost:8080/",
          "height": 35
        },
        "outputId": "9f85385e-3854-4b28-aff0-66416dbee9e6"
      },
      "cell_type": "code",
      "source": [
        "len(df2)"
      ],
      "execution_count": 68,
      "outputs": [
        {
          "output_type": "execute_result",
          "data": {
            "text/plain": [
              "11314"
            ]
          },
          "metadata": {
            "tags": []
          },
          "execution_count": 68
        }
      ]
    },
    {
      "metadata": {
        "id": "aRaW-aqdZACR",
        "colab_type": "code",
        "colab": {
          "base_uri": "https://localhost:8080/",
          "height": 35
        },
        "outputId": "7045f252-8f20-4434-ced5-ea6633cc564e"
      },
      "cell_type": "code",
      "source": [
        "df5 = pd.read_csv('test.csv')\n",
        "len(df5)"
      ],
      "execution_count": 106,
      "outputs": [
        {
          "output_type": "execute_result",
          "data": {
            "text/plain": [
              "7531"
            ]
          },
          "metadata": {
            "tags": []
          },
          "execution_count": 106
        }
      ]
    },
    {
      "metadata": {
        "id": "m_BWr8lTTtbP",
        "colab_type": "code",
        "colab": {
          "base_uri": "https://localhost:8080/",
          "height": 90
        },
        "outputId": "aed33bc2-80e4-440f-9605-b907c13281ae"
      },
      "cell_type": "code",
      "source": [
        "!ls"
      ],
      "execution_count": 126,
      "outputs": [
        {
          "output_type": "stream",
          "text": [
            "dev.csv       modeling.py\t sample_data\t  training.log\n",
            "drive\t      optimization.py\t test.csv\t  uncased_L-12_H-768_A-12.zip\n",
            "loss.tsv      __pycache__\t tokenization.py  weights.txt\n",
            "model_folder  run_classifier.py  train.csv\n"
          ],
          "name": "stdout"
        }
      ]
    },
    {
      "metadata": {
        "id": "DfaPjiLrjD6H",
        "colab_type": "code",
        "colab": {}
      },
      "cell_type": "code",
      "source": [
        "mv dev.csv '/content/drive/My Drive/data/20 news group problem/flair/'"
      ],
      "execution_count": 0,
      "outputs": []
    },
    {
      "metadata": {
        "id": "X41_1cfrYqTv",
        "colab_type": "code",
        "colab": {}
      },
      "cell_type": "code",
      "source": [
        "from flair.data import TaggedCorpus\n",
        "from flair.data_fetcher import NLPTaskDataFetcher, NLPTask\n",
        "from flair.embeddings import WordEmbeddings, FlairEmbeddings, DocumentRNNEmbeddings\n",
        "from flair.models import TextClassifier\n",
        "from flair.trainers import ModelTrainer\n",
        "\n",
        "corpus = NLPTaskDataFetcher.load_corpus('train.csv')"
      ],
      "execution_count": 0,
      "outputs": []
    },
    {
      "metadata": {
        "id": "_1EgI_psYqaU",
        "colab_type": "code",
        "colab": {
          "base_uri": "https://localhost:8080/",
          "height": 90
        },
        "outputId": "b713bf16-d9b2-426b-9e0c-279710c4c5d8"
      },
      "cell_type": "code",
      "source": [
        "#label_dict = corpus.make_label_dictionary()\n",
        "corpus = NLPTaskDataFetcher.load_classification_corpus(Path('./'), test_file='test.csv', dev_file='dev.csv', train_file='train.csv')\n",
        "\n"
      ],
      "execution_count": 120,
      "outputs": [
        {
          "output_type": "stream",
          "text": [
            "2019-05-02 12:33:02,533 Reading data from .\n",
            "2019-05-02 12:33:02,536 Train: train.csv\n",
            "2019-05-02 12:33:02,537 Dev: dev.csv\n",
            "2019-05-02 12:33:02,540 Test: test.csv\n"
          ],
          "name": "stdout"
        }
      ]
    },
    {
      "metadata": {
        "id": "nbspcdZ6Ttir",
        "colab_type": "code",
        "colab": {
          "base_uri": "https://localhost:8080/",
          "height": 35
        },
        "outputId": "ffbf5d20-8734-4090-efe8-3fa1b89158b2"
      },
      "cell_type": "code",
      "source": [
        "word_embeddings = [WordEmbeddings('glove'), FlairEmbeddings('news-forward-fast'), FlairEmbeddings('news-backward-fast')]"
      ],
      "execution_count": 121,
      "outputs": [
        {
          "output_type": "stream",
          "text": [
            "2019-05-02 12:33:45,787 this function is deprecated, use smart_open.open instead\n"
          ],
          "name": "stdout"
        }
      ]
    },
    {
      "metadata": {
        "id": "opl7jXMBTtlZ",
        "colab_type": "code",
        "colab": {
          "base_uri": "https://localhost:8080/",
          "height": 74
        },
        "outputId": "f5ba1903-ec22-42ad-dfb6-abbc1a1bea58"
      },
      "cell_type": "code",
      "source": [
        "document_embeddings = DocumentLSTMEmbeddings(word_embeddings, hidden_size=512, reproject_words=True, reproject_words_dimension=256)"
      ],
      "execution_count": 122,
      "outputs": [
        {
          "output_type": "stream",
          "text": [
            "/usr/local/lib/python3.6/dist-packages/ipykernel_launcher.py:1: DeprecationWarning: Call to deprecated class DocumentLSTMEmbeddings. (The functionality of this class is moved to 'DocumentRNNEmbeddings') -- Deprecated since version 0.4.\n",
            "  \"\"\"Entry point for launching an IPython kernel.\n"
          ],
          "name": "stderr"
        }
      ]
    },
    {
      "metadata": {
        "id": "lKUFEw-gTtoL",
        "colab_type": "code",
        "colab": {}
      },
      "cell_type": "code",
      "source": [
        "classifier = TextClassifier(document_embeddings, label_dictionary=corpus.make_label_dictionary(), multi_label=True)"
      ],
      "execution_count": 0,
      "outputs": []
    },
    {
      "metadata": {
        "id": "LfJlnfM-Ttqx",
        "colab_type": "code",
        "colab": {}
      },
      "cell_type": "code",
      "source": [
        "trainer = ModelTrainer(classifier, corpus)"
      ],
      "execution_count": 0,
      "outputs": []
    },
    {
      "metadata": {
        "id": "39YCAIy9caOf",
        "colab_type": "code",
        "colab": {
          "base_uri": "https://localhost:8080/",
          "height": 415
        },
        "outputId": "7194e446-eb00-4ddd-ac00-4f4262c419b5"
      },
      "cell_type": "code",
      "source": [
        "trainer.train('./', max_epochs=10)"
      ],
      "execution_count": 125,
      "outputs": [
        {
          "output_type": "stream",
          "text": [
            "2019-05-02 12:34:00,122 ----------------------------------------------------------------------------------------------------\n",
            "2019-05-02 12:34:00,124 Evaluation method: MICRO_F1_SCORE\n",
            "2019-05-02 12:34:00,126 ----------------------------------------------------------------------------------------------------\n",
            "2019-05-02 12:34:01,782 epoch 1 - iter 0/283 - loss 0.02179341\n"
          ],
          "name": "stdout"
        },
        {
          "output_type": "error",
          "ename": "RuntimeError",
          "evalue": "ignored",
          "traceback": [
            "\u001b[0;31m---------------------------------------------------------------------------\u001b[0m",
            "\u001b[0;31mRuntimeError\u001b[0m                              Traceback (most recent call last)",
            "\u001b[0;32m<ipython-input-125-2f1e9a05ad2f>\u001b[0m in \u001b[0;36m<module>\u001b[0;34m()\u001b[0m\n\u001b[0;32m----> 1\u001b[0;31m \u001b[0mtrainer\u001b[0m\u001b[0;34m.\u001b[0m\u001b[0mtrain\u001b[0m\u001b[0;34m(\u001b[0m\u001b[0;34m'./'\u001b[0m\u001b[0;34m,\u001b[0m \u001b[0mmax_epochs\u001b[0m\u001b[0;34m=\u001b[0m\u001b[0;36m10\u001b[0m\u001b[0;34m)\u001b[0m\u001b[0;34m\u001b[0m\u001b[0;34m\u001b[0m\u001b[0m\n\u001b[0m",
            "\u001b[0;32m/usr/local/lib/python3.6/dist-packages/flair/trainers/trainer.py\u001b[0m in \u001b[0;36mtrain\u001b[0;34m(self, base_path, evaluation_metric, learning_rate, mini_batch_size, eval_mini_batch_size, max_epochs, anneal_factor, patience, anneal_against_train_loss, train_with_dev, monitor_train, embeddings_in_memory, checkpoint, save_final_model, anneal_with_restarts, test_mode, param_selection_mode, **kwargs)\u001b[0m\n\u001b[1;32m    148\u001b[0m \u001b[0;34m\u001b[0m\u001b[0m\n\u001b[1;32m    149\u001b[0m                 \u001b[0;32mfor\u001b[0m \u001b[0mbatch_no\u001b[0m\u001b[0;34m,\u001b[0m \u001b[0mbatch\u001b[0m \u001b[0;32min\u001b[0m \u001b[0menumerate\u001b[0m\u001b[0;34m(\u001b[0m\u001b[0mbatches\u001b[0m\u001b[0;34m)\u001b[0m\u001b[0;34m:\u001b[0m\u001b[0;34m\u001b[0m\u001b[0;34m\u001b[0m\u001b[0m\n\u001b[0;32m--> 150\u001b[0;31m                     \u001b[0mloss\u001b[0m \u001b[0;34m=\u001b[0m \u001b[0mself\u001b[0m\u001b[0;34m.\u001b[0m\u001b[0mmodel\u001b[0m\u001b[0;34m.\u001b[0m\u001b[0mforward_loss\u001b[0m\u001b[0;34m(\u001b[0m\u001b[0mbatch\u001b[0m\u001b[0;34m)\u001b[0m\u001b[0;34m\u001b[0m\u001b[0;34m\u001b[0m\u001b[0m\n\u001b[0m\u001b[1;32m    151\u001b[0m \u001b[0;34m\u001b[0m\u001b[0m\n\u001b[1;32m    152\u001b[0m                     \u001b[0moptimizer\u001b[0m\u001b[0;34m.\u001b[0m\u001b[0mzero_grad\u001b[0m\u001b[0;34m(\u001b[0m\u001b[0;34m)\u001b[0m\u001b[0;34m\u001b[0m\u001b[0;34m\u001b[0m\u001b[0m\n",
            "\u001b[0;32m/usr/local/lib/python3.6/dist-packages/flair/models/text_classification_model.py\u001b[0m in \u001b[0;36mforward_loss\u001b[0;34m(self, sentences)\u001b[0m\n\u001b[1;32m    142\u001b[0m \u001b[0;34m\u001b[0m\u001b[0m\n\u001b[1;32m    143\u001b[0m     \u001b[0;32mdef\u001b[0m \u001b[0mforward_loss\u001b[0m\u001b[0;34m(\u001b[0m\u001b[0mself\u001b[0m\u001b[0;34m,\u001b[0m \u001b[0msentences\u001b[0m\u001b[0;34m:\u001b[0m \u001b[0mUnion\u001b[0m\u001b[0;34m[\u001b[0m\u001b[0mList\u001b[0m\u001b[0;34m[\u001b[0m\u001b[0mSentence\u001b[0m\u001b[0;34m]\u001b[0m\u001b[0;34m,\u001b[0m \u001b[0mSentence\u001b[0m\u001b[0;34m]\u001b[0m\u001b[0;34m)\u001b[0m \u001b[0;34m->\u001b[0m \u001b[0mtorch\u001b[0m\u001b[0;34m.\u001b[0m\u001b[0mtensor\u001b[0m\u001b[0;34m:\u001b[0m\u001b[0;34m\u001b[0m\u001b[0;34m\u001b[0m\u001b[0m\n\u001b[0;32m--> 144\u001b[0;31m         \u001b[0mscores\u001b[0m \u001b[0;34m=\u001b[0m \u001b[0mself\u001b[0m\u001b[0;34m.\u001b[0m\u001b[0mforward\u001b[0m\u001b[0;34m(\u001b[0m\u001b[0msentences\u001b[0m\u001b[0;34m)\u001b[0m\u001b[0;34m\u001b[0m\u001b[0;34m\u001b[0m\u001b[0m\n\u001b[0m\u001b[1;32m    145\u001b[0m         \u001b[0;32mreturn\u001b[0m \u001b[0mself\u001b[0m\u001b[0;34m.\u001b[0m\u001b[0m_calculate_loss\u001b[0m\u001b[0;34m(\u001b[0m\u001b[0mscores\u001b[0m\u001b[0;34m,\u001b[0m \u001b[0msentences\u001b[0m\u001b[0;34m)\u001b[0m\u001b[0;34m\u001b[0m\u001b[0;34m\u001b[0m\u001b[0m\n\u001b[1;32m    146\u001b[0m \u001b[0;34m\u001b[0m\u001b[0m\n",
            "\u001b[0;32m/usr/local/lib/python3.6/dist-packages/flair/models/text_classification_model.py\u001b[0m in \u001b[0;36mforward\u001b[0;34m(self, sentences)\u001b[0m\n\u001b[1;32m     54\u001b[0m \u001b[0;34m\u001b[0m\u001b[0m\n\u001b[1;32m     55\u001b[0m     \u001b[0;32mdef\u001b[0m \u001b[0mforward\u001b[0m\u001b[0;34m(\u001b[0m\u001b[0mself\u001b[0m\u001b[0;34m,\u001b[0m \u001b[0msentences\u001b[0m\u001b[0;34m)\u001b[0m \u001b[0;34m->\u001b[0m \u001b[0mList\u001b[0m\u001b[0;34m[\u001b[0m\u001b[0mList\u001b[0m\u001b[0;34m[\u001b[0m\u001b[0mfloat\u001b[0m\u001b[0;34m]\u001b[0m\u001b[0;34m]\u001b[0m\u001b[0;34m:\u001b[0m\u001b[0;34m\u001b[0m\u001b[0;34m\u001b[0m\u001b[0m\n\u001b[0;32m---> 56\u001b[0;31m         \u001b[0mself\u001b[0m\u001b[0;34m.\u001b[0m\u001b[0mdocument_embeddings\u001b[0m\u001b[0;34m.\u001b[0m\u001b[0membed\u001b[0m\u001b[0;34m(\u001b[0m\u001b[0msentences\u001b[0m\u001b[0;34m)\u001b[0m\u001b[0;34m\u001b[0m\u001b[0;34m\u001b[0m\u001b[0m\n\u001b[0m\u001b[1;32m     57\u001b[0m \u001b[0;34m\u001b[0m\u001b[0m\n\u001b[1;32m     58\u001b[0m         \u001b[0mtext_embedding_list\u001b[0m \u001b[0;34m=\u001b[0m \u001b[0;34m[\u001b[0m\u001b[0msentence\u001b[0m\u001b[0;34m.\u001b[0m\u001b[0mget_embedding\u001b[0m\u001b[0;34m(\u001b[0m\u001b[0;34m)\u001b[0m\u001b[0;34m.\u001b[0m\u001b[0munsqueeze\u001b[0m\u001b[0;34m(\u001b[0m\u001b[0;36m0\u001b[0m\u001b[0;34m)\u001b[0m \u001b[0;32mfor\u001b[0m \u001b[0msentence\u001b[0m \u001b[0;32min\u001b[0m \u001b[0msentences\u001b[0m\u001b[0;34m]\u001b[0m\u001b[0;34m\u001b[0m\u001b[0;34m\u001b[0m\u001b[0m\n",
            "\u001b[0;32m/usr/local/lib/python3.6/dist-packages/flair/embeddings.py\u001b[0m in \u001b[0;36membed\u001b[0;34m(self, sentences)\u001b[0m\n\u001b[1;32m   1827\u001b[0m         \u001b[0msentences\u001b[0m\u001b[0;34m.\u001b[0m\u001b[0msort\u001b[0m\u001b[0;34m(\u001b[0m\u001b[0mkey\u001b[0m\u001b[0;34m=\u001b[0m\u001b[0;32mlambda\u001b[0m \u001b[0mx\u001b[0m\u001b[0;34m:\u001b[0m \u001b[0mlen\u001b[0m\u001b[0;34m(\u001b[0m\u001b[0mx\u001b[0m\u001b[0;34m)\u001b[0m\u001b[0;34m,\u001b[0m \u001b[0mreverse\u001b[0m\u001b[0;34m=\u001b[0m\u001b[0;32mTrue\u001b[0m\u001b[0;34m)\u001b[0m\u001b[0;34m\u001b[0m\u001b[0;34m\u001b[0m\u001b[0m\n\u001b[1;32m   1828\u001b[0m \u001b[0;34m\u001b[0m\u001b[0m\n\u001b[0;32m-> 1829\u001b[0;31m         \u001b[0mself\u001b[0m\u001b[0;34m.\u001b[0m\u001b[0membeddings\u001b[0m\u001b[0;34m.\u001b[0m\u001b[0membed\u001b[0m\u001b[0;34m(\u001b[0m\u001b[0msentences\u001b[0m\u001b[0;34m)\u001b[0m\u001b[0;34m\u001b[0m\u001b[0;34m\u001b[0m\u001b[0m\n\u001b[0m\u001b[1;32m   1830\u001b[0m \u001b[0;34m\u001b[0m\u001b[0m\n\u001b[1;32m   1831\u001b[0m         \u001b[0;31m# first, sort sentences by number of tokens\u001b[0m\u001b[0;34m\u001b[0m\u001b[0;34m\u001b[0m\u001b[0;34m\u001b[0m\u001b[0m\n",
            "\u001b[0;32m/usr/local/lib/python3.6/dist-packages/flair/embeddings.py\u001b[0m in \u001b[0;36membed\u001b[0;34m(self, sentences, static_embeddings)\u001b[0m\n\u001b[1;32m    128\u001b[0m \u001b[0;34m\u001b[0m\u001b[0m\n\u001b[1;32m    129\u001b[0m         \u001b[0;32mfor\u001b[0m \u001b[0membedding\u001b[0m \u001b[0;32min\u001b[0m \u001b[0mself\u001b[0m\u001b[0;34m.\u001b[0m\u001b[0membeddings\u001b[0m\u001b[0;34m:\u001b[0m\u001b[0;34m\u001b[0m\u001b[0;34m\u001b[0m\u001b[0m\n\u001b[0;32m--> 130\u001b[0;31m             \u001b[0membedding\u001b[0m\u001b[0;34m.\u001b[0m\u001b[0membed\u001b[0m\u001b[0;34m(\u001b[0m\u001b[0msentences\u001b[0m\u001b[0;34m)\u001b[0m\u001b[0;34m\u001b[0m\u001b[0;34m\u001b[0m\u001b[0m\n\u001b[0m\u001b[1;32m    131\u001b[0m \u001b[0;34m\u001b[0m\u001b[0m\n\u001b[1;32m    132\u001b[0m     \u001b[0;34m@\u001b[0m\u001b[0mproperty\u001b[0m\u001b[0;34m\u001b[0m\u001b[0;34m\u001b[0m\u001b[0m\n",
            "\u001b[0;32m/usr/local/lib/python3.6/dist-packages/flair/embeddings.py\u001b[0m in \u001b[0;36membed\u001b[0;34m(self, sentences)\u001b[0m\n\u001b[1;32m     61\u001b[0m \u001b[0;34m\u001b[0m\u001b[0m\n\u001b[1;32m     62\u001b[0m         \u001b[0;32mif\u001b[0m \u001b[0;32mnot\u001b[0m \u001b[0meverything_embedded\u001b[0m \u001b[0;32mor\u001b[0m \u001b[0;32mnot\u001b[0m \u001b[0mself\u001b[0m\u001b[0;34m.\u001b[0m\u001b[0mstatic_embeddings\u001b[0m\u001b[0;34m:\u001b[0m\u001b[0;34m\u001b[0m\u001b[0;34m\u001b[0m\u001b[0m\n\u001b[0;32m---> 63\u001b[0;31m             \u001b[0mself\u001b[0m\u001b[0;34m.\u001b[0m\u001b[0m_add_embeddings_internal\u001b[0m\u001b[0;34m(\u001b[0m\u001b[0msentences\u001b[0m\u001b[0;34m)\u001b[0m\u001b[0;34m\u001b[0m\u001b[0;34m\u001b[0m\u001b[0m\n\u001b[0m\u001b[1;32m     64\u001b[0m \u001b[0;34m\u001b[0m\u001b[0m\n\u001b[1;32m     65\u001b[0m         \u001b[0;32mreturn\u001b[0m \u001b[0msentences\u001b[0m\u001b[0;34m\u001b[0m\u001b[0;34m\u001b[0m\u001b[0m\n",
            "\u001b[0;32m/usr/local/lib/python3.6/dist-packages/flair/embeddings.py\u001b[0m in \u001b[0;36m_add_embeddings_internal\u001b[0;34m(self, sentences)\u001b[0m\n\u001b[1;32m    921\u001b[0m \u001b[0;34m\u001b[0m\u001b[0m\n\u001b[1;32m    922\u001b[0m             \u001b[0;31m# get hidden states from language model\u001b[0m\u001b[0;34m\u001b[0m\u001b[0;34m\u001b[0m\u001b[0;34m\u001b[0m\u001b[0m\n\u001b[0;32m--> 923\u001b[0;31m             \u001b[0mall_hidden_states_in_lm\u001b[0m \u001b[0;34m=\u001b[0m \u001b[0mself\u001b[0m\u001b[0;34m.\u001b[0m\u001b[0mlm\u001b[0m\u001b[0;34m.\u001b[0m\u001b[0mget_representation\u001b[0m\u001b[0;34m(\u001b[0m\u001b[0msentences_padded\u001b[0m\u001b[0;34m,\u001b[0m \u001b[0mself\u001b[0m\u001b[0;34m.\u001b[0m\u001b[0mchars_per_chunk\u001b[0m\u001b[0;34m)\u001b[0m\u001b[0;34m\u001b[0m\u001b[0;34m\u001b[0m\u001b[0m\n\u001b[0m\u001b[1;32m    924\u001b[0m \u001b[0;34m\u001b[0m\u001b[0m\n\u001b[1;32m    925\u001b[0m             \u001b[0;31m# take first or last hidden states from language model as word representation\u001b[0m\u001b[0;34m\u001b[0m\u001b[0;34m\u001b[0m\u001b[0;34m\u001b[0m\u001b[0m\n",
            "\u001b[0;32m/usr/local/lib/python3.6/dist-packages/flair/models/language_model.py\u001b[0m in \u001b[0;36mget_representation\u001b[0;34m(self, strings, chars_per_chunk)\u001b[0m\n\u001b[1;32m    122\u001b[0m \u001b[0;34m\u001b[0m\u001b[0m\n\u001b[1;32m    123\u001b[0m         \u001b[0;31m# concatenate all chunks to make final output\u001b[0m\u001b[0;34m\u001b[0m\u001b[0;34m\u001b[0m\u001b[0;34m\u001b[0m\u001b[0m\n\u001b[0;32m--> 124\u001b[0;31m         \u001b[0moutput\u001b[0m \u001b[0;34m=\u001b[0m \u001b[0mtorch\u001b[0m\u001b[0;34m.\u001b[0m\u001b[0mcat\u001b[0m\u001b[0;34m(\u001b[0m\u001b[0moutput_parts\u001b[0m\u001b[0;34m)\u001b[0m\u001b[0;34m\u001b[0m\u001b[0;34m\u001b[0m\u001b[0m\n\u001b[0m\u001b[1;32m    125\u001b[0m \u001b[0;34m\u001b[0m\u001b[0m\n\u001b[1;32m    126\u001b[0m         \u001b[0;32mreturn\u001b[0m \u001b[0moutput\u001b[0m\u001b[0;34m\u001b[0m\u001b[0;34m\u001b[0m\u001b[0m\n",
            "\u001b[0;31mRuntimeError\u001b[0m: CUDA out of memory. Tried to allocate 4.76 GiB (GPU 0; 14.73 GiB total capacity; 4.82 GiB already allocated; 719.94 MiB free; 288.12 MiB cached)"
          ]
        }
      ]
    },
    {
      "metadata": {
        "id": "AAEo-WimcaRb",
        "colab_type": "code",
        "colab": {
          "base_uri": "https://localhost:8080/",
          "height": 35
        },
        "outputId": "96379a6e-30c3-40f1-89c0-d19ebf395797"
      },
      "cell_type": "code",
      "source": [
        "print(corpus)\n",
        "#print(corpus.obtain_statistics())\n"
      ],
      "execution_count": 114,
      "outputs": [
        {
          "output_type": "stream",
          "text": [
            "TaggedCorpus: 0 train + 0 dev + 0 test sentences\n"
          ],
          "name": "stdout"
        }
      ]
    },
    {
      "metadata": {
        "id": "NbjcwtEOcaUX",
        "colab_type": "code",
        "colab": {}
      },
      "cell_type": "code",
      "source": [
        ""
      ],
      "execution_count": 0,
      "outputs": []
    },
    {
      "metadata": {
        "id": "LvHnKl8ucaXB",
        "colab_type": "code",
        "colab": {}
      },
      "cell_type": "code",
      "source": [
        ""
      ],
      "execution_count": 0,
      "outputs": []
    },
    {
      "metadata": {
        "id": "_kPVObgONZWm",
        "colab_type": "code",
        "colab": {}
      },
      "cell_type": "code",
      "source": [
        ""
      ],
      "execution_count": 0,
      "outputs": []
    },
    {
      "metadata": {
        "id": "sH9K3MDcNZaS",
        "colab_type": "code",
        "colab": {}
      },
      "cell_type": "code",
      "source": [
        ""
      ],
      "execution_count": 0,
      "outputs": []
    }
  ]
}