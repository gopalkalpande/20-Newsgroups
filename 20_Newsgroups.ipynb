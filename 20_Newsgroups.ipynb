{
  "nbformat": 4,
  "nbformat_minor": 0,
  "metadata": {
    "colab": {
      "name": "20 Newsgroups.ipynb",
      "version": "0.3.2",
      "provenance": [],
      "collapsed_sections": [],
      "include_colab_link": true
    },
    "kernelspec": {
      "name": "python3",
      "display_name": "Python 3"
    },
    "accelerator": "GPU"
  },
  "cells": [
    {
      "cell_type": "markdown",
      "metadata": {
        "id": "view-in-github",
        "colab_type": "text"
      },
      "source": [
        "<a href=\"https://colab.research.google.com/github/gopalkalpande/20-Newsgroups/blob/master/20_Newsgroups.ipynb\" target=\"_parent\"><img src=\"https://colab.research.google.com/assets/colab-badge.svg\" alt=\"Open In Colab\"/></a>"
      ]
    },
    {
      "cell_type": "code",
      "metadata": {
        "id": "3JHqatn878Lg",
        "colab_type": "code",
        "outputId": "89c859bb-dc55-4342-e011-7809c5725ae6",
        "colab": {
          "base_uri": "https://localhost:8080/",
          "height": 74
        }
      },
      "source": [
        "%matplotlib inline\n",
        "import warnings\n",
        "warnings.filterwarnings(\"ignore\")\n",
        "\n",
        "\n",
        "import sqlite3\n",
        "import pandas as pd\n",
        "import numpy as np\n",
        "import nltk\n",
        "import string\n",
        "import matplotlib.pyplot as plt\n",
        "import seaborn as sns\n",
        "from sklearn.feature_extraction.text import TfidfTransformer\n",
        "from sklearn.feature_extraction.text import TfidfVectorizer\n",
        "\n",
        "from sklearn.feature_extraction.text import CountVectorizer\n",
        "from sklearn.metrics import confusion_matrix\n",
        "from sklearn import metrics\n",
        "from sklearn.metrics import roc_curve, auc\n",
        "from nltk.stem.porter import PorterStemmer\n",
        "\n",
        "import re\n",
        "# Tutorial about Python regular expressions: https://pymotw.com/2/re/\n",
        "import string\n",
        "from nltk.corpus import stopwords\n",
        "from nltk.stem import PorterStemmer\n",
        "from nltk.stem.wordnet import WordNetLemmatizer\n",
        "\n",
        "from gensim.models import Word2Vec\n",
        "from gensim.models import KeyedVectors\n",
        "import pickle\n",
        "\n",
        "from tqdm import tqdm\n",
        "import os\n",
        "\n",
        "from sklearn.model_selection import train_test_split\n",
        "from sklearn import model_selection\n",
        "\n",
        "from sklearn.naive_bayes import MultinomialNB\n",
        "from sklearn.metrics import f1_score\n",
        "from sklearn.externals import joblib"
      ],
      "execution_count": 0,
      "outputs": [
        {
          "output_type": "stream",
          "text": [
            "/usr/local/lib/python3.6/dist-packages/smart_open/ssh.py:34: UserWarning: paramiko missing, opening SSH/SCP/SFTP paths will be disabled.  `pip install paramiko` to suppress\n",
            "  warnings.warn('paramiko missing, opening SSH/SCP/SFTP paths will be disabled.  `pip install paramiko` to suppress')\n"
          ],
          "name": "stderr"
        }
      ]
    },
    {
      "cell_type": "code",
      "metadata": {
        "id": "vsMW96hx8XtY",
        "colab_type": "code",
        "outputId": "a68e73b4-42c0-4673-ad08-837dbd0af04e",
        "colab": {
          "base_uri": "https://localhost:8080/",
          "height": 128
        }
      },
      "source": [
        "from google.colab import drive\n",
        "drive.mount('/content/drive')"
      ],
      "execution_count": 0,
      "outputs": [
        {
          "output_type": "stream",
          "text": [
            "Go to this URL in a browser: https://accounts.google.com/o/oauth2/auth?client_id=947318989803-6bn6qk8qdgf4n4g3pfee6491hc0brc4i.apps.googleusercontent.com&redirect_uri=urn%3Aietf%3Awg%3Aoauth%3A2.0%3Aoob&scope=email%20https%3A%2F%2Fwww.googleapis.com%2Fauth%2Fdocs.test%20https%3A%2F%2Fwww.googleapis.com%2Fauth%2Fdrive%20https%3A%2F%2Fwww.googleapis.com%2Fauth%2Fdrive.photos.readonly%20https%3A%2F%2Fwww.googleapis.com%2Fauth%2Fpeopleapi.readonly&response_type=code\n",
            "\n",
            "Enter your authorization code:\n",
            "··········\n",
            "Mounted at /content/drive\n"
          ],
          "name": "stdout"
        }
      ]
    },
    {
      "cell_type": "code",
      "metadata": {
        "id": "N-Rbgr_s8X0g",
        "colab_type": "code",
        "outputId": "a94f83cf-8459-4903-f385-f29e78a52a5e",
        "colab": {
          "base_uri": "https://localhost:8080/",
          "height": 35
        }
      },
      "source": [
        "!ls \"/content/drive/My Drive/data/20 news group problem/\""
      ],
      "execution_count": 0,
      "outputs": [
        {
          "output_type": "stream",
          "text": [
            "20news-bydate-test  20news-bydate-train  test.csv  train.csv\n"
          ],
          "name": "stdout"
        }
      ]
    },
    {
      "cell_type": "code",
      "metadata": {
        "id": "kJbp1ehJ8X5X",
        "colab_type": "code",
        "colab": {}
      },
      "source": [
        "df = pd.read_csv('/content/drive/My Drive/data/20 news group problem/train.csv')\n",
        "df1 = pd.read_csv('/content/drive/My Drive/data/20 news group problem/test.csv')\n"
      ],
      "execution_count": 0,
      "outputs": []
    },
    {
      "cell_type": "code",
      "metadata": {
        "id": "-alLiUl28X8X",
        "colab_type": "code",
        "outputId": "15543d90-e7b9-466a-dbc4-5019a5e55a24",
        "colab": {
          "base_uri": "https://localhost:8080/",
          "height": 72
        }
      },
      "source": [
        "df.isna().any()"
      ],
      "execution_count": 0,
      "outputs": [
        {
          "output_type": "execute_result",
          "data": {
            "text/plain": [
              "News         False\n",
              "NewsGroup    False\n",
              "dtype: bool"
            ]
          },
          "metadata": {
            "tags": []
          },
          "execution_count": 6
        }
      ]
    },
    {
      "cell_type": "code",
      "metadata": {
        "id": "yERumhh_8X_p",
        "colab_type": "code",
        "outputId": "47dfd295-ac2b-4ab3-b1fa-768443c8b1ea",
        "colab": {
          "base_uri": "https://localhost:8080/",
          "height": 72
        }
      },
      "source": [
        "df1.isna().any()"
      ],
      "execution_count": 0,
      "outputs": [
        {
          "output_type": "execute_result",
          "data": {
            "text/plain": [
              "News         False\n",
              "NewsGroup    False\n",
              "dtype: bool"
            ]
          },
          "metadata": {
            "tags": []
          },
          "execution_count": 7
        }
      ]
    },
    {
      "cell_type": "code",
      "metadata": {
        "id": "Us1WzgSgAvrd",
        "colab_type": "code",
        "outputId": "0d4b2fda-2ecc-41ea-ab2d-431f75665c20",
        "colab": {
          "base_uri": "https://localhost:8080/",
          "height": 35
        }
      },
      "source": [
        "df.shape, df1.shape"
      ],
      "execution_count": 0,
      "outputs": [
        {
          "output_type": "execute_result",
          "data": {
            "text/plain": [
              "((11314, 2), (7532, 2))"
            ]
          },
          "metadata": {
            "tags": []
          },
          "execution_count": 8
        }
      ]
    },
    {
      "cell_type": "code",
      "metadata": {
        "id": "KMJ7_iFuA26j",
        "colab_type": "code",
        "outputId": "87d77873-b072-433e-8cdd-e406e8ca5570",
        "colab": {
          "base_uri": "https://localhost:8080/",
          "height": 35
        }
      },
      "source": [
        "len(df.News[0])"
      ],
      "execution_count": 0,
      "outputs": [
        {
          "output_type": "execute_result",
          "data": {
            "text/plain": [
              "11891"
            ]
          },
          "metadata": {
            "tags": []
          },
          "execution_count": 18
        }
      ]
    },
    {
      "cell_type": "code",
      "metadata": {
        "id": "bImuvr4XA29i",
        "colab_type": "code",
        "outputId": "0daa8e2e-11b2-4d62-fc19-1d0c8d100f2e",
        "colab": {
          "base_uri": "https://localhost:8080/",
          "height": 5508
        }
      },
      "source": [
        "news = df.News.values[0]\n",
        "group = df.NewsGroup.values[0]\n",
        "print(group)\n",
        "print(news)"
      ],
      "execution_count": 0,
      "outputs": [
        {
          "output_type": "stream",
          "text": [
            "alt.atheism\n",
            "From: mathew <mathew@mantis.co.uk>\n",
            "Subject: Alt.Atheism FAQ: Atheist Resources\n",
            "Summary: Books, addresses, music -- anything related to atheism\n",
            "Keywords: FAQ, atheism, books, music, fiction, addresses, contacts\n",
            "Expires: Thu, 29 Apr 1993 11:57:19 GMT\n",
            "Distribution: world\n",
            "Organization: Mantis Consultants, Cambridge. UK.\n",
            "Supersedes: <19930301143317@mantis.co.uk>\n",
            "Lines: 290\n",
            "\n",
            "Archive-name: atheism/resources\n",
            "Alt-atheism-archive-name: resources\n",
            "Last-modified: 11 December 1992\n",
            "Version: 1.0\n",
            "\n",
            "                              Atheist Resources\n",
            "\n",
            "                      Addresses of Atheist Organizations\n",
            "\n",
            "                                     USA\n",
            "\n",
            "FREEDOM FROM RELIGION FOUNDATION\n",
            "\n",
            "Darwin fish bumper stickers and assorted other atheist paraphernalia are\n",
            "available from the Freedom From Religion Foundation in the US.\n",
            "\n",
            "Write to:  FFRF, P.O. Box 750, Madison, WI 53701.\n",
            "Telephone: (608) 256-8900\n",
            "\n",
            "EVOLUTION DESIGNS\n",
            "\n",
            "Evolution Designs sell the \"Darwin fish\".  It's a fish symbol, like the ones\n",
            "Christians stick on their cars, but with feet and the word \"Darwin\" written\n",
            "inside.  The deluxe moulded 3D plastic fish is $4.95 postpaid in the US.\n",
            "\n",
            "Write to:  Evolution Designs, 7119 Laurel Canyon #4, North Hollywood,\n",
            "           CA 91605.\n",
            "\n",
            "People in the San Francisco Bay area can get Darwin Fish from Lynn Gold --\n",
            "try mailing <figmo@netcom.com>.  For net people who go to Lynn directly, the\n",
            "price is $4.95 per fish.\n",
            "\n",
            "AMERICAN ATHEIST PRESS\n",
            "\n",
            "AAP publish various atheist books -- critiques of the Bible, lists of\n",
            "Biblical contradictions, and so on.  One such book is:\n",
            "\n",
            "\"The Bible Handbook\" by W.P. Ball and G.W. Foote.  American Atheist Press.\n",
            "372 pp.  ISBN 0-910309-26-4, 2nd edition, 1986.  Bible contradictions,\n",
            "absurdities, atrocities, immoralities... contains Ball, Foote: \"The Bible\n",
            "Contradicts Itself\", AAP.  Based on the King James version of the Bible.\n",
            "\n",
            "Write to:  American Atheist Press, P.O. Box 140195, Austin, TX 78714-0195.\n",
            "      or:  7215 Cameron Road, Austin, TX 78752-2973.\n",
            "Telephone: (512) 458-1244\n",
            "Fax:       (512) 467-9525\n",
            "\n",
            "PROMETHEUS BOOKS\n",
            "\n",
            "Sell books including Haught's \"Holy Horrors\" (see below).\n",
            "\n",
            "Write to:  700 East Amherst Street, Buffalo, New York 14215.\n",
            "Telephone: (716) 837-2475.\n",
            "\n",
            "An alternate address (which may be newer or older) is:\n",
            "Prometheus Books, 59 Glenn Drive, Buffalo, NY 14228-2197.\n",
            "\n",
            "AFRICAN-AMERICANS FOR HUMANISM\n",
            "\n",
            "An organization promoting black secular humanism and uncovering the history of\n",
            "black freethought.  They publish a quarterly newsletter, AAH EXAMINER.\n",
            "\n",
            "Write to:  Norm R. Allen, Jr., African Americans for Humanism, P.O. Box 664,\n",
            "           Buffalo, NY 14226.\n",
            "\n",
            "                                United Kingdom\n",
            "\n",
            "Rationalist Press Association          National Secular Society\n",
            "88 Islington High Street               702 Holloway Road\n",
            "London N1 8EW                          London N19 3NL\n",
            "071 226 7251                           071 272 1266\n",
            "\n",
            "British Humanist Association           South Place Ethical Society\n",
            "14 Lamb's Conduit Passage              Conway Hall\n",
            "London WC1R 4RH                        Red Lion Square\n",
            "071 430 0908                           London WC1R 4RL\n",
            "fax 071 430 1271                       071 831 7723\n",
            "\n",
            "The National Secular Society publish \"The Freethinker\", a monthly magazine\n",
            "founded in 1881.\n",
            "\n",
            "                                   Germany\n",
            "\n",
            "IBKA e.V.\n",
            "Internationaler Bund der Konfessionslosen und Atheisten\n",
            "Postfach 880, D-1000 Berlin 41. Germany.\n",
            "\n",
            "IBKA publish a journal:\n",
            "MIZ. (Materialien und Informationen zur Zeit. Politisches\n",
            "Journal der Konfessionslosesn und Atheisten. Hrsg. IBKA e.V.)\n",
            "MIZ-Vertrieb, Postfach 880, D-1000 Berlin 41. Germany.\n",
            "\n",
            "For atheist books, write to:\n",
            "\n",
            "IBDK, Internationaler B\"ucherdienst der Konfessionslosen\n",
            "Postfach 3005, D-3000 Hannover 1. Germany.\n",
            "Telephone: 0511/211216\n",
            "\n",
            "\n",
            "                               Books -- Fiction\n",
            "\n",
            "THOMAS M. DISCH\n",
            "\n",
            "\"The Santa Claus Compromise\"\n",
            "Short story.  The ultimate proof that Santa exists.  All characters and \n",
            "events are fictitious.  Any similarity to living or dead gods -- uh, well...\n",
            "\n",
            "WALTER M. MILLER, JR\n",
            "\n",
            "\"A Canticle for Leibowitz\"\n",
            "One gem in this post atomic doomsday novel is the monks who spent their lives\n",
            "copying blueprints from \"Saint Leibowitz\", filling the sheets of paper with\n",
            "ink and leaving white lines and letters.\n",
            "\n",
            "EDGAR PANGBORN\n",
            "\n",
            "\"Davy\"\n",
            "Post atomic doomsday novel set in clerical states.  The church, for example,\n",
            "forbids that anyone \"produce, describe or use any substance containing...\n",
            "atoms\". \n",
            "\n",
            "PHILIP K. DICK\n",
            "\n",
            "Philip K. Dick Dick wrote many philosophical and thought-provoking short \n",
            "stories and novels.  His stories are bizarre at times, but very approachable.\n",
            "He wrote mainly SF, but he wrote about people, truth and religion rather than\n",
            "technology.  Although he often believed that he had met some sort of God, he\n",
            "remained sceptical.  Amongst his novels, the following are of some relevance:\n",
            "\n",
            "\"Galactic Pot-Healer\"\n",
            "A fallible alien deity summons a group of Earth craftsmen and women to a\n",
            "remote planet to raise a giant cathedral from beneath the oceans.  When the\n",
            "deity begins to demand faith from the earthers, pot-healer Joe Fernwright is\n",
            "unable to comply.  A polished, ironic and amusing novel.\n",
            "\n",
            "\"A Maze of Death\"\n",
            "Noteworthy for its description of a technology-based religion.\n",
            "\n",
            "\"VALIS\"\n",
            "The schizophrenic hero searches for the hidden mysteries of Gnostic\n",
            "Christianity after reality is fired into his brain by a pink laser beam of\n",
            "unknown but possibly divine origin.  He is accompanied by his dogmatic and\n",
            "dismissively atheist friend and assorted other odd characters.\n",
            "\n",
            "\"The Divine Invasion\"\n",
            "God invades Earth by making a young woman pregnant as she returns from\n",
            "another star system.  Unfortunately she is terminally ill, and must be\n",
            "assisted by a dead man whose brain is wired to 24-hour easy listening music.\n",
            "\n",
            "MARGARET ATWOOD\n",
            "\n",
            "\"The Handmaid's Tale\"\n",
            "A story based on the premise that the US Congress is mysteriously\n",
            "assassinated, and fundamentalists quickly take charge of the nation to set it\n",
            "\"right\" again.  The book is the diary of a woman's life as she tries to live\n",
            "under the new Christian theocracy.  Women's right to own property is revoked,\n",
            "and their bank accounts are closed; sinful luxuries are outlawed, and the\n",
            "radio is only used for readings from the Bible.  Crimes are punished\n",
            "retroactively: doctors who performed legal abortions in the \"old world\" are\n",
            "hunted down and hanged.  Atwood's writing style is difficult to get used to\n",
            "at first, but the tale grows more and more chilling as it goes on.\n",
            "\n",
            "VARIOUS AUTHORS\n",
            "\n",
            "\"The Bible\"\n",
            "This somewhat dull and rambling work has often been criticized.  However, it\n",
            "is probably worth reading, if only so that you'll know what all the fuss is\n",
            "about.  It exists in many different versions, so make sure you get the one\n",
            "true version.\n",
            "\n",
            "                             Books -- Non-fiction\n",
            "\n",
            "PETER DE ROSA\n",
            "\n",
            "\"Vicars of Christ\", Bantam Press, 1988\n",
            "Although de Rosa seems to be Christian or even Catholic this is a very\n",
            "enlighting history of papal immoralities, adulteries, fallacies etc.\n",
            "(German translation: \"Gottes erste Diener. Die dunkle Seite des Papsttums\",\n",
            "Droemer-Knaur, 1989)\n",
            "\n",
            "MICHAEL MARTIN\n",
            "\n",
            "\"Atheism: A Philosophical Justification\", Temple University Press,\n",
            " Philadelphia, USA.\n",
            "A detailed and scholarly justification of atheism.  Contains an outstanding\n",
            "appendix defining terminology and usage in this (necessarily) tendentious\n",
            "area.  Argues both for \"negative atheism\" (i.e. the \"non-belief in the\n",
            "existence of god(s)\") and also for \"positive atheism\" (\"the belief in the\n",
            "non-existence of god(s)\").  Includes great refutations of the most\n",
            "challenging arguments for god; particular attention is paid to refuting\n",
            "contempory theists such as Platinga and Swinburne.\n",
            "541 pages. ISBN 0-87722-642-3 (hardcover; paperback also available)\n",
            "\n",
            "\"The Case Against Christianity\", Temple University Press\n",
            "A comprehensive critique of Christianity, in which he considers\n",
            "the best contemporary defences of Christianity and (ultimately)\n",
            "demonstrates that they are unsupportable and/or incoherent.\n",
            "273 pages. ISBN 0-87722-767-5\n",
            "\n",
            "JAMES TURNER\n",
            "\n",
            "\"Without God, Without Creed\", The Johns Hopkins University Press, Baltimore,\n",
            " MD, USA\n",
            "Subtitled \"The Origins of Unbelief in America\".  Examines the way in which\n",
            "unbelief (whether agnostic or atheistic)  became a mainstream alternative\n",
            "world-view.  Focusses on the period 1770-1900, and while considering France\n",
            "and Britain the emphasis is on American, and particularly New England\n",
            "developments.  \"Neither a religious history of secularization or atheism,\n",
            "Without God, Without Creed is, rather, the intellectual history of the fate\n",
            "of a single idea, the belief that God exists.\" \n",
            "316 pages. ISBN (hardcover) 0-8018-2494-X (paper) 0-8018-3407-4\n",
            "\n",
            "GEORGE SELDES (Editor)\n",
            "\n",
            "\"The great thoughts\", Ballantine Books, New York, USA\n",
            "A \"dictionary of quotations\" of a different kind, concentrating on statements\n",
            "and writings which, explicitly or implicitly, present the person's philosophy\n",
            "and world-view.  Includes obscure (and often suppressed) opinions from many\n",
            "people.  For some popular observations, traces the way in which various\n",
            "people expressed and twisted the idea over the centuries.  Quite a number of\n",
            "the quotations are derived from Cardiff's \"What Great Men Think of Religion\"\n",
            "and Noyes' \"Views of Religion\".\n",
            "490 pages. ISBN (paper) 0-345-29887-X.\n",
            "\n",
            "RICHARD SWINBURNE\n",
            "\n",
            "\"The Existence of God (Revised Edition)\", Clarendon Paperbacks, Oxford\n",
            "This book is the second volume in a trilogy that began with \"The Coherence of\n",
            "Theism\" (1977) and was concluded with \"Faith and Reason\" (1981).  In this\n",
            "work, Swinburne attempts to construct a series of inductive arguments for the\n",
            "existence of God.  His arguments, which are somewhat tendentious and rely\n",
            "upon the imputation of late 20th century western Christian values and\n",
            "aesthetics to a God which is supposedly as simple as can be conceived, were\n",
            "decisively rejected in Mackie's \"The Miracle of Theism\".  In the revised\n",
            "edition of \"The Existence of God\", Swinburne includes an Appendix in which he\n",
            "makes a somewhat incoherent attempt to rebut Mackie.\n",
            "\n",
            "J. L. MACKIE\n",
            "\n",
            "\"The Miracle of Theism\", Oxford\n",
            "This (posthumous) volume contains a comprehensive review of the principal\n",
            "arguments for and against the existence of God.  It ranges from the classical\n",
            "philosophical positions of Descartes, Anselm, Berkeley, Hume et al, through\n",
            "the moral arguments of Newman, Kant and Sidgwick, to the recent restatements\n",
            "of the classical theses by Plantinga and Swinburne.  It also addresses those\n",
            "positions which push the concept of God beyond the realm of the rational,\n",
            "such as those of Kierkegaard, Kung and Philips, as well as \"replacements for\n",
            "God\" such as Lelie's axiarchism.  The book is a delight to read - less\n",
            "formalistic and better written than Martin's works, and refreshingly direct\n",
            "when compared with the hand-waving of Swinburne.\n",
            "\n",
            "JAMES A. HAUGHT\n",
            "\n",
            "\"Holy Horrors: An Illustrated History of Religious Murder and Madness\",\n",
            " Prometheus Books\n",
            "Looks at religious persecution from ancient times to the present day -- and\n",
            "not only by Christians.\n",
            "Library of Congress Catalog Card Number 89-64079. 1990.\n",
            "\n",
            "NORM R. ALLEN, JR.\n",
            "\n",
            "\"African American Humanism: an Anthology\"\n",
            "See the listing for African Americans for Humanism above.\n",
            "\n",
            "GORDON STEIN\n",
            "\n",
            "\"An Anthology of Atheism and Rationalism\", Prometheus Books\n",
            "An anthology covering a wide range of subjects, including 'The Devil, Evil\n",
            "and Morality' and 'The History of Freethought'.  Comprehensive bibliography.\n",
            "\n",
            "EDMUND D. COHEN\n",
            "\n",
            "\"The Mind of The Bible-Believer\", Prometheus Books\n",
            "A study of why people become Christian fundamentalists, and what effect it\n",
            "has on them.\n",
            "\n",
            "                                Net Resources\n",
            "\n",
            "There's a small mail-based archive server at mantis.co.uk which carries\n",
            "archives of old alt.atheism.moderated articles and assorted other files.  For\n",
            "more information, send mail to archive-server@mantis.co.uk saying\n",
            "\n",
            "   help\n",
            "   send atheism/index\n",
            "\n",
            "and it will mail back a reply.\n",
            "\n",
            "\n",
            "mathew\n",
            "ÿ\n",
            "\n"
          ],
          "name": "stdout"
        }
      ]
    },
    {
      "cell_type": "code",
      "metadata": {
        "id": "em-MaM4iDwpg",
        "colab_type": "code",
        "outputId": "d67f78ab-4cb9-43ac-93d0-b9b3f2d87fe1",
        "colab": {
          "base_uri": "https://localhost:8080/",
          "height": 345
        }
      },
      "source": [
        "news = df.News.values[5000]\n",
        "group = df.NewsGroup.values[5000]\n",
        "print(group)\n",
        "print(news)"
      ],
      "execution_count": 0,
      "outputs": [
        {
          "output_type": "stream",
          "text": [
            "rec.motorcycles\n",
            "From: revco@sfsuvax1.sfsu.edu (John Boockholdt)\n",
            "Subject: Re: Lane Sharing in CA\n",
            "Organization: California State University, Sacramento\n",
            "Lines: 11\n",
            "\n",
            "In three years of riding in the cities of San Jose,\n",
            "Santa Clara, and Sunnyvale I never came into any\n",
            "conflict with the local police over my lane splitting\n",
            "habits (all three of these cities were listed earlier\n",
            "as being anti-splitting in one way or another).  I\n",
            "can't say whether this was due to luck, police\n",
            "kindness, or there not actually being any ordinances\n",
            "against it in these cities, so I continue.....\n",
            "\n",
            "RevCo\n",
            "\n",
            "\n"
          ],
          "name": "stdout"
        }
      ]
    },
    {
      "cell_type": "code",
      "metadata": {
        "id": "BXk9sYRADw3G",
        "colab_type": "code",
        "outputId": "dbc22204-0b88-4ebb-a1a0-c36209bc0a77",
        "colab": {
          "base_uri": "https://localhost:8080/",
          "height": 1308
        }
      },
      "source": [
        "news = df.News.values[10000]\n",
        "group = df.NewsGroup.values[10000]\n",
        "print(group)\n",
        "print(news)"
      ],
      "execution_count": 0,
      "outputs": [
        {
          "output_type": "stream",
          "text": [
            "talk.politics.mideast\n",
            "From: dbd@urartu.sdpa.org (David Davidian)\n",
            "Subject: Turkish Government Agents on UseNet Lie Through Their Teeth!\n",
            "Article-I.D.: urartu.1993Apr15.204512.11971\n",
            "Organization: S.D.P.A. Center for Regional Studies\n",
            "Lines: 63\n",
            "\n",
            "In revision of history <9304131827@zuma.UUCP> as posted by Turkish Government\n",
            "Agents under the guise of sera@zuma.UUCP (Serdar Argic) LIE in response to\n",
            "article <1993Apr13.033213.4148@urartu.sdpa.org> hla@urartu.sdpa.org and\n",
            "scribed: \n",
            "\n",
            "[(*]    Orhan Gunduz is blown up. Gunduz receives an ultimatum: Either \n",
            "[(*]    he gives up his honorary position or he will be \"executed\". He \n",
            "[(*]    refuses. \"Responsibility\" is claimed by JCAG and SDPA.\n",
            "\n",
            "[(*]    May 4, 1982 - Cambridge, Massachusetts\n",
            "[(*]\tOrhan Gunduz, the Turkish honorary consul in Boston, would not bow \n",
            "[(*]\tto the Armenian terrorist ultimatum that he give up his title of \n",
            "[(*]\t\"honorary consul\". Now he is attacked and murdered in cold blood.\n",
            "[(*]\tPresident Reagan orders an all-out manhunt-to no avail. An eye-\n",
            "[(*]\twitness who gave a description of the murderer is shot down.  He \n",
            "[(*]\tsurvives... but falls silent. One of the most revolting \"triumphs\" in \n",
            "[(*]\tthe senseless, mindless history of Armenian terrorism. Such a murder \n",
            "[(*]\tbrings absolutely nothing - except an ego boost for the murderer \n",
            "[(*]\twithin the Armenian terrorist underworld, which is already wallowing \n",
            "[(*]\tin self-satisfaction.\n",
            "[(*] \n",
            "[(*]    Were you involved in the murder of Sarik Ariyak? \n",
            "\n",
            "[(*]   \tDecember 17, 1980 - Sydney\n",
            "[(*]\tTwo Nazi Armenians massacre Sarik Ariyak and his bodyguard, Engin \n",
            "[(*]    Sever. JCAG and SDPA claim responsibility.\n",
            "\n",
            "Mr. Turkish Governmental Agent: prove that the SDPA even existed in 1980 or\n",
            "1982! Go ahead, provide us the newspaper accounts of the assassinations and \n",
            "show us the letters SDPA! The Turkish government is good at excising text from\n",
            "their references, let's see how good thay are at adding text to verifiable \n",
            "newspaper accounts! \n",
            "\n",
            "The Turkish government can't support any of their anti-Armenian claims as\n",
            "typified in the above scribed garbage! That government continues to make \n",
            "false and libelous charges for they have no recourse left after having made \n",
            "fools out of through their attempt at a systematic campaign at denying and \n",
            "covering up the Turkish genocide of the Armenians. \n",
            "\n",
            "Just like a dog barking at a moving bus, it barks, jumps, yells, until the\n",
            "bus stops, at which point it just walks away! Such will be with this posting!\n",
            "Turkish agents level the most ridiculous charges, and when brought to answer, \n",
            "they are silent, like the dog after the bus stops!\n",
            "\n",
            "The Turkish government feels it can funnel a heightened state of ultra-\n",
            "nationalism existing in Turkey today onto UseNet and convince people via its \n",
            "revisionist, myopic, and incidental view of themselves and their place in the \n",
            "world. \n",
            "\n",
            "The resulting inability to address Armenian and Greek refutations of Turkey`s\n",
            "re-write of history is to refer to me as a terrorist, and worse, claim --\n",
            "as part of the record -- I took responsibility for the murder of 2 people!\n",
            "\n",
            "What a pack of raging fools, blinded by anti-Armenian fascism. It's too bad\n",
            "the socialization policies of the Republic of Turkey requires it to always \n",
            "find non-Turks to de-humanize! Such will be their downfall! \n",
            "\n",
            "\n",
            "-- \n",
            "David Davidian dbd@urartu.sdpa.org   | \"How do we explain Turkish troops on\n",
            "S.D.P.A. Center for Regional Studies |  the Armenian border, when we can't \n",
            "P.O. Box 382761                      |  even explain 1915?\" \n",
            "Cambridge, MA 02238                  |              Turkish MP, March 1992 \n",
            "\n"
          ],
          "name": "stdout"
        }
      ]
    },
    {
      "cell_type": "code",
      "metadata": {
        "id": "05Fac1FfE3eb",
        "colab_type": "code",
        "outputId": "1daad1c7-ad15-4d84-9a2f-1cd1992207c9",
        "colab": {
          "base_uri": "https://localhost:8080/",
          "height": 400
        }
      },
      "source": [
        "data_per_group = df.NewsGroup.value_counts()\n",
        "plt.figure(figsize=(10,6))\n",
        "sns.barplot(data_per_group.index, data_per_group.values)\n",
        "plt.ylabel('Count', fontsize=18)\n",
        "plt.xlabel('Group', fontsize=18);"
      ],
      "execution_count": 0,
      "outputs": [
        {
          "output_type": "display_data",
          "data": {
            "image/png": "[encoded data removed]",
            "text/plain": [
              "<Figure size 720x432 with 1 Axes>"
            ]
          },
          "metadata": {
            "tags": []
          }
        }
      ]
    },
    {
      "cell_type": "code",
      "metadata": {
        "id": "KWfzoxhuHzPP",
        "colab_type": "code",
        "outputId": "d20feac4-17b7-4416-fe7d-38bf3952cd0e",
        "colab": {
          "base_uri": "https://localhost:8080/",
          "height": 399
        }
      },
      "source": [
        "print(data_per_group)"
      ],
      "execution_count": 0,
      "outputs": [
        {
          "output_type": "stream",
          "text": [
            "rec.sport.hockey            600\n",
            "soc.religion.christian      599\n",
            "rec.motorcycles             598\n",
            "rec.sport.baseball          597\n",
            "sci.crypt                   595\n",
            "sci.med                     594\n",
            "rec.autos                   594\n",
            "sci.space                   593\n",
            "comp.windows.x              593\n",
            "comp.os.ms-windows.misc     591\n",
            "sci.electronics             591\n",
            "comp.sys.ibm.pc.hardware    590\n",
            "misc.forsale                585\n",
            "comp.graphics               584\n",
            "comp.sys.mac.hardware       578\n",
            "talk.politics.mideast       564\n",
            "talk.politics.guns          546\n",
            "alt.atheism                 480\n",
            "talk.politics.misc          465\n",
            "talk.religion.misc          377\n",
            "Name: NewsGroup, dtype: int64\n"
          ],
          "name": "stdout"
        }
      ]
    },
    {
      "cell_type": "code",
      "metadata": {
        "id": "EBiovcjUE3hT",
        "colab_type": "code",
        "colab": {}
      },
      "source": [
        ""
      ],
      "execution_count": 0,
      "outputs": []
    },
    {
      "cell_type": "code",
      "metadata": {
        "id": "urWAN3YpE3ki",
        "colab_type": "code",
        "colab": {}
      },
      "source": [
        "import re\n",
        "\n",
        "def decontracted(phrase):\n",
        "    # general\n",
        "    phrase = re.sub(r\"n\\'t\", \" not\", phrase)\n",
        "    phrase = re.sub(r\"\\'re\", \" are\", phrase)\n",
        "    phrase = re.sub(r\"\\'s\", \" is\", phrase)\n",
        "    phrase = re.sub(r\"\\'d\", \" would\", phrase)\n",
        "    phrase = re.sub(r\"\\'ll\", \" will\", phrase)\n",
        "    phrase = re.sub(r\"\\'t\", \" not\", phrase)\n",
        "    phrase = re.sub(r\"\\'ve\", \" have\", phrase)\n",
        "    phrase = re.sub(r\"\\'m\", \" am\", phrase)\n",
        "    return phrase"
      ],
      "execution_count": 0,
      "outputs": []
    },
    {
      "cell_type": "code",
      "metadata": {
        "id": "d_yDo9l3E3nq",
        "colab_type": "code",
        "colab": {}
      },
      "source": [
        "stopwords= set(['br', 'the', 'i', 'me', 'my', 'myself', 'we', 'our', 'ours', 'ourselves', 'you', \"you're\", \"you've\",\\\n",
        "            \"you'll\", \"you'd\", 'your', 'yours', 'yourself', 'yourselves', 'he', 'him', 'his', 'himself', \\\n",
        "            'she', \"she's\", 'her', 'hers', 'herself', 'it', \"it's\", 'its', 'itself', 'they', 'them', 'their',\\\n",
        "            'theirs', 'themselves', 'what', 'which', 'who', 'whom', 'this', 'that', \"that'll\", 'these', 'those', \\\n",
        "            'am', 'is', 'are', 'was', 'were', 'be', 'been', 'being', 'have', 'has', 'had', 'having', 'do', 'does', \\\n",
        "            'did', 'doing', 'a', 'an', 'the', 'and', 'but', 'if', 'or', 'because', 'as', 'until', 'while', 'of', \\\n",
        "            'at', 'by', 'for', 'with', 'about', 'against', 'between', 'into', 'through', 'during', 'before', 'after',\\\n",
        "            'above', 'below', 'to', 'from', 'up', 'down', 'in', 'out', 'on', 'off', 'over', 'under', 'again', 'further',\\\n",
        "            'then', 'once', 'here', 'there', 'when', 'where', 'why', 'how', 'all', 'any', 'both', 'each', 'few', 'more',\\\n",
        "            'most', 'other', 'some', 'such', 'only', 'own', 'same', 'so', 'than', 'too', 'very', \\\n",
        "            's', 't', 'can', 'will', 'just', 'don', \"don't\", 'should', \"should've\", 'now', 'd', 'll', 'm', 'o', 're', \\\n",
        "            've', 'y', 'ain', 'aren', \"aren't\", 'couldn', \"couldn't\", 'didn', \"didn't\", 'doesn', \"doesn't\", 'hadn',\\\n",
        "            \"hadn't\", 'hasn', \"hasn't\", 'haven', \"haven't\", 'isn', \"isn't\", 'ma', 'mightn', \"mightn't\", 'mustn',\\\n",
        "            \"mustn't\", 'needn', \"needn't\", 'shan', \"shan't\", 'shouldn', \"shouldn't\", 'wasn', \"wasn't\", 'weren', \"weren't\", \\\n",
        "            'won', \"won't\", 'wouldn', \"wouldn't\"])"
      ],
      "execution_count": 0,
      "outputs": []
    },
    {
      "cell_type": "code",
      "metadata": {
        "id": "8wO3za8-E3qm",
        "colab_type": "code",
        "outputId": "aef8f991-5ecb-4e8d-930b-f8cfd8e969f8",
        "colab": {
          "base_uri": "https://localhost:8080/",
          "height": 35
        }
      },
      "source": [
        "from tqdm import tqdm\n",
        "from bs4 import BeautifulSoup\n",
        "preprocessed_news = []\n",
        "# tqdm is for printing the status bar\n",
        "for news in tqdm(df.News):\n",
        "    news = re.sub('<.*?>', '', news)\n",
        "    news = re.sub(r\"http\\S+\", \"\", news)\n",
        "    news = BeautifulSoup(news, 'lxml').get_text()\n",
        "    news = decontracted(news)\n",
        "    news = re.sub(\"\\S*\\d\\S*\", \"\", news).strip()\n",
        "    news = re.sub('[^A-Za-z]+', ' ', news)\n",
        "    # https://gist.github.com/sebleier/554280\n",
        "    news = ' '.join(e.lower() for e in news.split() if e.lower() not in stopwords)\n",
        "    preprocessed_news.append(news.strip())\n",
        "\n",
        "    \n",
        "#print(preprocessed_reviews)"
      ],
      "execution_count": 0,
      "outputs": [
        {
          "output_type": "stream",
          "text": [
            "100%|██████████| 11314/11314 [00:06<00:00, 1630.13it/s]\n"
          ],
          "name": "stderr"
        }
      ]
    },
    {
      "cell_type": "code",
      "metadata": {
        "id": "hfAzJOVOE3te",
        "colab_type": "code",
        "outputId": "a0773db2-bac1-446c-9914-68ee8667e03c",
        "colab": {
          "base_uri": "https://localhost:8080/",
          "height": 55
        }
      },
      "source": [
        "preprocessed_news[555]"
      ],
      "execution_count": 0,
      "outputs": [
        {
          "output_type": "execute_result",
          "data": {
            "text/plain": [
              "'mccool dgp toronto edu michael mccool subject apr toronto siggraph event organization university toronto dynamic graphics project distribution na lines toronto siggraph chance art graphics animation indigo ken evans imagicians artware inc tuesday april mcluhan centre culture technology university toronto queen park crescent toronto members non members alike non members encouraged become members abstract imagicians artware inc entering early beta site testing silicon graphics workstations new abstract artwork animation package called chance art package described demonstrated technical issues discussed marketing plans outlined talk also present technical business problems increasingly confronting small startup software companies today opportunities situation presents time event allocated hands demonstrations interested parties silicon graphics graciously providing indigo event myck kupka also demonstrating computerized interactive reflective stereoscope installed upstairs mcluhan centre feel free drop demonstration event btw sure sing happy birthday myck names nominees siggraph executive offices announced meeting nominations still open election may event call myck kupka fax directions mcluhan coachhouse east side queen park crescent north wellesley south st joseph st behind east queen park crescent centre mediaeval studies information toronto siggraph membership contact michael mccool via internet mccool dgp utoronto ca voice fax'"
            ]
          },
          "metadata": {
            "tags": []
          },
          "execution_count": 68
        }
      ]
    },
    {
      "cell_type": "code",
      "metadata": {
        "id": "PNrVlMwxTdPq",
        "colab_type": "code",
        "outputId": "baa2da59-e70a-4136-8ca4-e91cce2a72f1",
        "colab": {
          "base_uri": "https://localhost:8080/",
          "height": 35
        }
      },
      "source": [
        "from tqdm import tqdm\n",
        "from bs4 import BeautifulSoup\n",
        "preprocessed_news_test = []\n",
        "# tqdm is for printing the status bar\n",
        "for news in tqdm(df1.News):\n",
        "    news = re.sub('<.*?>', '', news)\n",
        "    news = re.sub(r\"http\\S+\", \"\", news)\n",
        "    news = BeautifulSoup(news, 'lxml').get_text()\n",
        "    news = decontracted(news)\n",
        "    news = re.sub(\"\\S*\\d\\S*\", \"\", news).strip()\n",
        "    news = re.sub('[^A-Za-z]+', ' ', news)\n",
        "    # https://gist.github.com/sebleier/554280\n",
        "    news = ' '.join(e.lower() for e in news.split() if e.lower() not in stopwords)\n",
        "    preprocessed_news_test.append(news.strip())\n",
        "\n",
        "    \n",
        "#print(preprocessed_reviews)"
      ],
      "execution_count": 0,
      "outputs": [
        {
          "output_type": "stream",
          "text": [
            "100%|██████████| 7532/7532 [00:04<00:00, 1685.75it/s]\n"
          ],
          "name": "stderr"
        }
      ]
    },
    {
      "cell_type": "code",
      "metadata": {
        "id": "pz9iKuctTdSc",
        "colab_type": "code",
        "outputId": "4eb3585a-4a39-4635-e9f0-ba02f2db273a",
        "colab": {
          "base_uri": "https://localhost:8080/",
          "height": 55
        }
      },
      "source": [
        "preprocessed_news_test[0]"
      ],
      "execution_count": 0,
      "outputs": [
        {
          "output_type": "execute_result",
          "data": {
            "text/plain": [
              "'nanci ann miller subject amusing atheists agnostics organization sponsored account school computer science carnegie mellon pittsburgh pa lines nntp posting host reply timmbake mcl ucsb edu bake timmons writes lies hypocrisy dude atheism takes much faith theism admit people might think takes faith atheist faith take kind faith say great invisible pink unicorn not exist take kind faith say santa claus not exist may people suppose certainly not big leap faith say things god exist suppose depends notion definition faith besides not believing god means one not deal extra baggage comes leaves person feeling wonderfully free especially beaten head years agree religion belief often important psychological healer many people reason think important however trying force psychological fantasy not mean bad way really someone else not interested extremely rude still believed santa claus said belief santa wonderful things life making better person allowing live without guilt etc tried get believe santa cuz much would call men white coats soon could get phone bake timmons iii nanci babbling know sure author quote please send email spring nature way saying let party'"
            ]
          },
          "metadata": {
            "tags": []
          },
          "execution_count": 70
        }
      ]
    },
    {
      "cell_type": "code",
      "metadata": {
        "id": "pv1JFA7QTdVD",
        "colab_type": "code",
        "outputId": "8b80d5bd-a941-41f6-e1e0-a0ac8efcded3",
        "colab": {
          "base_uri": "https://localhost:8080/",
          "height": 55
        }
      },
      "source": [
        "tf_idf_vect = TfidfVectorizer(ngram_range=(1,2), min_df=10)\n",
        "tf_idf_vect.fit(preprocessed_news)\n",
        "print(\"some sample features(unique words in the corpus)\",tf_idf_vect.get_feature_names()[0:10])"
      ],
      "execution_count": 0,
      "outputs": [
        {
          "output_type": "stream",
          "text": [
            "some sample features(unique words in the corpus) ['aa', 'aaa', 'aardvark', 'aardvark ucs', 'aaron', 'aaron arc', 'aaron lung', 'aaron ray', 'aau', 'aau dk']\n"
          ],
          "name": "stdout"
        }
      ]
    },
    {
      "cell_type": "code",
      "metadata": {
        "id": "Kytihs8sTdXy",
        "colab_type": "code",
        "outputId": "6a23aa44-8843-4712-de9f-1a098366a205",
        "colab": {
          "base_uri": "https://localhost:8080/",
          "height": 72
        }
      },
      "source": [
        "final_tf_idf = tf_idf_vect.transform(preprocessed_news)\n",
        "print(\"the type of count vectorizer \",type(final_tf_idf))\n",
        "print(\"the shape of out text TFIDF vectorizer \",final_tf_idf.get_shape())\n",
        "print(\"the number of unique words including both unigrams and bigrams \", final_tf_idf.get_shape()[1])"
      ],
      "execution_count": 0,
      "outputs": [
        {
          "output_type": "stream",
          "text": [
            "the type of count vectorizer  <class 'scipy.sparse.csr.csr_matrix'>\n",
            "the shape of out text TFIDF vectorizer  (11314, 25781)\n",
            "the number of unique words including both unigrams and bigrams  25781\n"
          ],
          "name": "stdout"
        }
      ]
    },
    {
      "cell_type": "code",
      "metadata": {
        "id": "cjIcsoDve70D",
        "colab_type": "code",
        "outputId": "16bc11c9-95af-415a-8eab-1b8f1445da61",
        "colab": {
          "base_uri": "https://localhost:8080/",
          "height": 35
        }
      },
      "source": [
        "joblib.dump(final_tf_idf, '/content/drive/My Drive/data/20 news group problem/train_tf_idf.joblib')"
      ],
      "execution_count": 0,
      "outputs": [
        {
          "output_type": "execute_result",
          "data": {
            "text/plain": [
              "['/content/drive/My Drive/data/20 news group problem/train_tf_idf.joblib']"
            ]
          },
          "metadata": {
            "tags": []
          },
          "execution_count": 87
        }
      ]
    },
    {
      "cell_type": "code",
      "metadata": {
        "id": "ixpe2vnqYDSe",
        "colab_type": "code",
        "outputId": "8e8f77ab-36c7-4f76-94aa-77217af2d8ec",
        "colab": {
          "base_uri": "https://localhost:8080/",
          "height": 72
        }
      },
      "source": [
        "final_tf_idf_test = tf_idf_vect.transform(preprocessed_news_test)\n",
        "print(\"the type of count vectorizer \",type(final_tf_idf_test))\n",
        "print(\"the shape of out text TFIDF vectorizer \",final_tf_idf_test.get_shape())\n",
        "print(\"the number of unique words including both unigrams and bigrams \", final_tf_idf_test.get_shape()[1])"
      ],
      "execution_count": 0,
      "outputs": [
        {
          "output_type": "stream",
          "text": [
            "the type of count vectorizer  <class 'scipy.sparse.csr.csr_matrix'>\n",
            "the shape of out text TFIDF vectorizer  (7532, 25781)\n",
            "the number of unique words including both unigrams and bigrams  25781\n"
          ],
          "name": "stdout"
        }
      ]
    },
    {
      "cell_type": "code",
      "metadata": {
        "id": "TZYHv3rqe8Wh",
        "colab_type": "code",
        "outputId": "3e0ae266-4ff1-45fd-d32d-d11b33d98b4a",
        "colab": {
          "base_uri": "https://localhost:8080/",
          "height": 35
        }
      },
      "source": [
        "joblib.dump(final_tf_idf_test, '/content/drive/My Drive/data/20 news group problem/test_tf_idf.joblib')"
      ],
      "execution_count": 0,
      "outputs": [
        {
          "output_type": "execute_result",
          "data": {
            "text/plain": [
              "['/content/drive/My Drive/data/20 news group problem/test_tf_idf.joblib']"
            ]
          },
          "metadata": {
            "tags": []
          },
          "execution_count": 88
        }
      ]
    },
    {
      "cell_type": "code",
      "metadata": {
        "id": "ICIPzPJXYWmI",
        "colab_type": "code",
        "colab": {}
      },
      "source": [
        "y_train = df.NewsGroup\n",
        "y_test = df1.NewsGroup"
      ],
      "execution_count": 0,
      "outputs": []
    },
    {
      "cell_type": "code",
      "metadata": {
        "id": "ZObCYPrZYW4q",
        "colab_type": "code",
        "colab": {}
      },
      "source": [
        "from sklearn import preprocessing\n",
        "le = preprocessing.LabelEncoder()\n",
        "y_train = le.fit_transform(y_train)\n",
        "y_test = le.fit_transform(y_test)"
      ],
      "execution_count": 0,
      "outputs": []
    },
    {
      "cell_type": "code",
      "metadata": {
        "id": "FSQ2hRJwacmk",
        "colab_type": "code",
        "outputId": "fad39bd6-9866-491a-bad3-0ec32bb0e2f2",
        "colab": {
          "base_uri": "https://localhost:8080/",
          "height": 35
        }
      },
      "source": [
        "y_test"
      ],
      "execution_count": 0,
      "outputs": [
        {
          "output_type": "execute_result",
          "data": {
            "text/plain": [
              "array([ 0,  0,  0, ..., 19, 19, 19])"
            ]
          },
          "metadata": {
            "tags": []
          },
          "execution_count": 82
        }
      ]
    },
    {
      "cell_type": "code",
      "metadata": {
        "id": "9NLMA6gVanZs",
        "colab_type": "code",
        "outputId": "c9904ee8-be7c-4ecb-be81-47c50ea38308",
        "colab": {
          "base_uri": "https://localhost:8080/",
          "height": 126
        }
      },
      "source": [
        "from xgboost import XGBClassifier\n",
        "classifier = XGBClassifier( n_jobs=-1, n_estimators=200)\n",
        "classifier.fit(final_tf_idf, y_train)"
      ],
      "execution_count": 0,
      "outputs": [
        {
          "output_type": "execute_result",
          "data": {
            "text/plain": [
              "XGBClassifier(base_score=0.5, booster='gbtree', colsample_bylevel=1,\n",
              "       colsample_bytree=1, gamma=0, learning_rate=0.1, max_delta_step=0,\n",
              "       max_depth=3, min_child_weight=1, missing=None, n_estimators=200,\n",
              "       n_jobs=-1, nthread=None, objective='multi:softprob', random_state=0,\n",
              "       reg_alpha=0, reg_lambda=1, scale_pos_weight=1, seed=None,\n",
              "       silent=True, subsample=1)"
            ]
          },
          "metadata": {
            "tags": []
          },
          "execution_count": 83
        }
      ]
    },
    {
      "cell_type": "code",
      "metadata": {
        "id": "hM7FtgcCanc1",
        "colab_type": "code",
        "colab": {}
      },
      "source": [
        "import pickle\n",
        "pickle.dump(classifier, open(\"/content/drive/My Drive/data/20 news group problem/xgb_clf.pickle.dat\", \"wb\"))\n",
        "\n",
        "\n",
        "# load model from file\n",
        "#loaded_model = pickle.load(open(\"pima.pickle.dat\", \"rb\"))\n",
        "# make predictions for test data\n",
        "#y_pred = loaded_model.predict(X_test)"
      ],
      "execution_count": 0,
      "outputs": []
    },
    {
      "cell_type": "code",
      "metadata": {
        "id": "1ioBpkFQbmI3",
        "colab_type": "code",
        "colab": {}
      },
      "source": [
        "y_pred_xgb = classifier.predict(final_tf_idf_test)"
      ],
      "execution_count": 0,
      "outputs": []
    },
    {
      "cell_type": "code",
      "metadata": {
        "id": "Ol17e3NIdJZn",
        "colab_type": "code",
        "outputId": "7c8e2cdf-f16d-4e05-c1c4-8d84b7769dfc",
        "colab": {
          "base_uri": "https://localhost:8080/",
          "height": 508
        }
      },
      "source": [
        "from sklearn.metrics import classification_report, confusion_matrix, accuracy_score\n",
        "print(classification_report(y_test, y_pred_xgb))"
      ],
      "execution_count": 0,
      "outputs": [
        {
          "output_type": "stream",
          "text": [
            "              precision    recall  f1-score   support\n",
            "\n",
            "           0       0.74      0.66      0.70       319\n",
            "           1       0.62      0.67      0.64       389\n",
            "           2       0.71      0.73      0.72       394\n",
            "           3       0.60      0.71      0.65       392\n",
            "           4       0.75      0.78      0.76       385\n",
            "           5       0.77      0.68      0.72       395\n",
            "           6       0.80      0.84      0.82       390\n",
            "           7       0.87      0.77      0.82       396\n",
            "           8       0.89      0.84      0.87       398\n",
            "           9       0.88      0.86      0.87       397\n",
            "          10       0.91      0.90      0.91       399\n",
            "          11       0.92      0.83      0.87       396\n",
            "          12       0.50      0.64      0.56       393\n",
            "          13       0.84      0.79      0.81       396\n",
            "          14       0.85      0.86      0.85       394\n",
            "          15       0.77      0.87      0.82       398\n",
            "          16       0.65      0.80      0.72       364\n",
            "          17       0.96      0.75      0.84       376\n",
            "          18       0.64      0.51      0.57       310\n",
            "          19       0.58      0.47      0.52       251\n",
            "\n",
            "   micro avg       0.76      0.76      0.76      7532\n",
            "   macro avg       0.76      0.75      0.75      7532\n",
            "weighted avg       0.77      0.76      0.76      7532\n",
            "\n"
          ],
          "name": "stdout"
        }
      ]
    },
    {
      "cell_type": "code",
      "metadata": {
        "id": "PQXKQW7idJh-",
        "colab_type": "code",
        "colab": {}
      },
      "source": [
        ""
      ],
      "execution_count": 0,
      "outputs": []
    },
    {
      "cell_type": "code",
      "metadata": {
        "id": "_17sQv3bf-xO",
        "colab_type": "code",
        "colab": {}
      },
      "source": [
        ""
      ],
      "execution_count": 0,
      "outputs": []
    },
    {
      "cell_type": "code",
      "metadata": {
        "id": "HYsqnkzef-2O",
        "colab_type": "code",
        "colab": {}
      },
      "source": [
        ""
      ],
      "execution_count": 0,
      "outputs": []
    }
  ]
}